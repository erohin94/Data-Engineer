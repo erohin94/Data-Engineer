{
  "nbformat": 4,
  "nbformat_minor": 0,
  "metadata": {
    "colab": {
      "provenance": []
    },
    "kernelspec": {
      "name": "python3",
      "display_name": "Python 3"
    },
    "language_info": {
      "name": "python"
    }
  },
  "cells": [
    {
      "cell_type": "markdown",
      "source": [
        "# **Пример `.model_validate(data)` и `.model_dump()`**"
      ],
      "metadata": {
        "id": "MOEdhtYR1n6R"
      }
    },
    {
      "cell_type": "code",
      "source": [
        "from pydantic import BaseModel\n",
        "\n",
        "class UserSchema(BaseModel):\n",
        "    id: int = None\n",
        "    name: str = None\n",
        "    email: str = None\n",
        "    test_field: str = None # Задали тестовое поле которого нет в словаре data\n",
        "\n",
        "class MainUserSchema(BaseModel):\n",
        "    items: list[UserSchema]\n",
        "\n",
        "# Валидация из словаря\n",
        "data = {\"items\": [{\"id\": 1, \"name\": \"John Doe\", \"email\": \"john@example.com\"},\n",
        "                  {\"id\": 2, \"name\": \"Ivan\", \"email\": \"ivan@example.com\"}]}\n",
        "\n",
        "user = MainUserSchema.model_validate(data)\n",
        "user"
      ],
      "metadata": {
        "colab": {
          "base_uri": "https://localhost:8080/"
        },
        "id": "yZZy8JSxrn7f",
        "outputId": "b2466a43-1f0a-4e78-9cf4-4396bc02db80"
      },
      "execution_count": 183,
      "outputs": [
        {
          "output_type": "execute_result",
          "data": {
            "text/plain": [
              "MainUserSchema(items=[UserSchema(id=1, name='John Doe', email='john@example.com', test_field=None), UserSchema(id=2, name='Ivan', email='ivan@example.com', test_field=None)])"
            ]
          },
          "metadata": {},
          "execution_count": 183
        }
      ]
    },
    {
      "cell_type": "code",
      "source": [
        "from pydantic import BaseModel\n",
        "\n",
        "class UserSchema(BaseModel):\n",
        "    id: int = None\n",
        "    name: str = None\n",
        "    email: str = None\n",
        "    test_field: str = None # Задали тестовое поле которого нет в словаре data\n",
        "\n",
        "class MainUserSchema(BaseModel):\n",
        "    items: list[UserSchema]\n",
        "\n",
        "# Валидация из словаря\n",
        "data = {\"items\": [{\"id\": 1, \"name\": \"John Doe\", \"email\": \"john@example.com\"},\n",
        "                  {\"id\": 2, \"name\": \"Ivan\", \"email\": \"ivan@example.com\"}]}\n",
        "user = MainUserSchema.model_validate(data).model_dump(by_alias=True)\n",
        "user"
      ],
      "metadata": {
        "colab": {
          "base_uri": "https://localhost:8080/"
        },
        "id": "vwSdKTXusuwf",
        "outputId": "823af4a5-2292-47fe-adff-aebc235ae73e"
      },
      "execution_count": 184,
      "outputs": [
        {
          "output_type": "execute_result",
          "data": {
            "text/plain": [
              "{'items': [{'id': 1,\n",
              "   'name': 'John Doe',\n",
              "   'email': 'john@example.com',\n",
              "   'test_field': None},\n",
              "  {'id': 2, 'name': 'Ivan', 'email': 'ivan@example.com', 'test_field': None}]}"
            ]
          },
          "metadata": {},
          "execution_count": 184
        }
      ]
    },
    {
      "cell_type": "code",
      "source": [
        "'''\n",
        "Аргумент by_alias=True в методе .model_dump() (или .dict() в Pydantic v1)\n",
        "используется для управления именами ключей в итоговом словаре — выводить ли их как:\n",
        "- Имена полей модели (по умолчанию)\n",
        "или\n",
        "- Заданные псевдонимы (alias)\n",
        "'''\n",
        "\n",
        "from pydantic import BaseModel, Field\n",
        "\n",
        "class User(BaseModel):\n",
        "    id: int = Field(alias=\"user_id\")\n",
        "    name: str\n",
        "\n",
        "data = {\n",
        "        \"user_id\": 100,\n",
        "        \"name\": \"Alice\"\n",
        "      }\n",
        "\n",
        "user = User.model_validate(data)\n",
        "print(user)\n",
        "\n",
        "print(user.model_dump())\n",
        "# {'id': 100, 'name': 'Alice'}\n",
        "\n",
        "print(user.model_dump(by_alias=True))\n",
        "# {'user_id': 100, 'name': 'Alice'}"
      ],
      "metadata": {
        "colab": {
          "base_uri": "https://localhost:8080/"
        },
        "id": "KrzFlzqQ5HnJ",
        "outputId": "f74cf4ca-6da8-4b0e-eaa8-f6ffdef4a536"
      },
      "execution_count": 185,
      "outputs": [
        {
          "output_type": "stream",
          "name": "stdout",
          "text": [
            "id=100 name='Alice'\n",
            "{'id': 100, 'name': 'Alice'}\n",
            "{'user_id': 100, 'name': 'Alice'}\n"
          ]
        }
      ]
    },
    {
      "cell_type": "markdown",
      "source": [
        "# **Пример с использованием API HH**"
      ],
      "metadata": {
        "id": "wMpu2mOz6zvG"
      }
    },
    {
      "cell_type": "code",
      "source": [
        "from pydantic import BaseModel   #, Field\n",
        "from typing import Optional\n",
        "import requests\n",
        "\n",
        "class EmployerItemSchema(BaseModel):\n",
        "    id: str\n",
        "    name: str\n",
        "    url: str = None\n",
        "    alternate_url: str = None\n",
        "    vacancies_url: str = None\n",
        "    open_vacancies: int = None\n",
        "    test_atr: str = 'Поле отсутствует' # Тестовое поле, если его нет в ответе от API, то выводит 'Поле отсутствует'\n",
        "\n",
        "class EmployersListSchema(BaseModel):\n",
        "    items: list[EmployerItemSchema]\n",
        "    #found: int\n",
        "    #pages: int\n",
        "    #page: int"
      ],
      "metadata": {
        "id": "viNm2F02tug-"
      },
      "execution_count": 186,
      "outputs": []
    },
    {
      "cell_type": "code",
      "source": [
        "def get_employers_1():\n",
        "    api_url = \"https://api.hh.ru\"\n",
        "    url = f\"{api_url}/employers\"\n",
        "    params = {\n",
        "        'text': 'Дикси',\n",
        "        'type': 'company',\n",
        "        'area': 1,\n",
        "        'only_with_vacancies': True,\n",
        "    }\n",
        "\n",
        "    response = requests.get(url, params=params)\n",
        "    return response\n",
        "\n",
        "response = get_employers_1()\n",
        "# type(response.json()) -> dict\n",
        "data = response.json()\n",
        "data"
      ],
      "metadata": {
        "colab": {
          "base_uri": "https://localhost:8080/"
        },
        "id": "dnZ4QFYQtyS_",
        "outputId": "9de4220d-9ee1-4f8c-aabb-25c524771004"
      },
      "execution_count": 187,
      "outputs": [
        {
          "output_type": "execute_result",
          "data": {
            "text/plain": [
              "{'items': [{'id': '2746',\n",
              "   'name': 'ДИКСИ, группа компаний',\n",
              "   'url': 'https://api.hh.ru/employers/2746',\n",
              "   'alternate_url': 'https://hh.ru/employer/2746',\n",
              "   'logo_urls': {'original': 'https://img.hhcdn.ru/employer-logo-original/1393191.png',\n",
              "    '240': 'https://img.hhcdn.ru/employer-logo/7192548.png',\n",
              "    '90': 'https://img.hhcdn.ru/employer-logo/7192547.png'},\n",
              "   'vacancies_url': 'https://api.hh.ru/vacancies?employer_id=2746',\n",
              "   'open_vacancies': 2898}],\n",
              " 'found': 1,\n",
              " 'pages': 1,\n",
              " 'page': 0,\n",
              " 'per_page': 20}"
            ]
          },
          "metadata": {},
          "execution_count": 187
        }
      ]
    },
    {
      "cell_type": "code",
      "source": [
        "json_resume_list = []\n",
        "if response.status_code == 200:\n",
        "  try:\n",
        "    # Валидация ответа от API\n",
        "    validated_data = EmployersListSchema.model_validate(data).model_dump(by_alias=True)\n",
        "    json_resume_list.append(validated_data)\n",
        "    print(validated_data)\n",
        "\n",
        "  except Exception as e:\n",
        "    print(\"Ошибка валидации данных:\", e)\n",
        "\n",
        "else:\n",
        "  print(f\"Ошибка: {response.status_code}\")\n",
        "\n",
        "print('\\nСписок json_resume_list:')\n",
        "json_resume_list"
      ],
      "metadata": {
        "colab": {
          "base_uri": "https://localhost:8080/"
        },
        "id": "zCo0AASMqP2a",
        "outputId": "a9e12f70-eed8-4b66-81e2-2c771415129e"
      },
      "execution_count": 188,
      "outputs": [
        {
          "output_type": "stream",
          "name": "stdout",
          "text": [
            "{'items': [{'id': '2746', 'name': 'ДИКСИ, группа компаний', 'url': 'https://api.hh.ru/employers/2746', 'alternate_url': 'https://hh.ru/employer/2746', 'vacancies_url': 'https://api.hh.ru/vacancies?employer_id=2746', 'open_vacancies': 2898, 'test_atr': 'Поле отсутствует'}]}\n",
            "\n",
            "Список json_resume_list:\n"
          ]
        },
        {
          "output_type": "execute_result",
          "data": {
            "text/plain": [
              "[{'items': [{'id': '2746',\n",
              "    'name': 'ДИКСИ, группа компаний',\n",
              "    'url': 'https://api.hh.ru/employers/2746',\n",
              "    'alternate_url': 'https://hh.ru/employer/2746',\n",
              "    'vacancies_url': 'https://api.hh.ru/vacancies?employer_id=2746',\n",
              "    'open_vacancies': 2898,\n",
              "    'test_atr': 'Поле отсутствует'}]}]"
            ]
          },
          "metadata": {},
          "execution_count": 188
        }
      ]
    },
    {
      "cell_type": "markdown",
      "source": [
        "# **class Config**"
      ],
      "metadata": {
        "id": "QrOmxtKR1oJM"
      }
    },
    {
      "cell_type": "markdown",
      "source": [
        "В Pydantic внутри модели можно определить вложенный класс `Config`, чтобы настроить поведение модели — например, как она валидирует данные, как сериализуется и т.д.\n",
        "\n",
        "```\n",
        "from pydantic import BaseModel\n",
        "\n",
        "class User(BaseModel):\n",
        "    name: str\n",
        "    age: int\n",
        "\n",
        "    class Config:\n",
        "        title = \"User Model\"  # название модели (для документации)\n",
        "        anystr_strip_whitespace = True  # обрезать пробелы у строк при валидации\n",
        "        validate_assignment = True  # проверять данные при присваивании полям после создания объекта\n",
        "        extra = \"forbid\"  # запретить лишние поля при инициализации (если передать что-то лишнее — будет ошибка)\n",
        "```"
      ],
      "metadata": {
        "id": "DIPELaYiF1Yq"
      }
    },
    {
      "cell_type": "code",
      "source": [
        "from pydantic import BaseModel\n",
        "\n",
        "class Resume(BaseModel):\n",
        "    name: str\n",
        "    email: str\n",
        "\n",
        "    class Config:\n",
        "        extra = \"allow\"\n",
        "\n",
        "data = {\n",
        "    \"name\": \"Alice\",\n",
        "    \"email\": \"alice@example.com\",\n",
        "    \"age\": 30,  # лишнее поле\n",
        "    \"location\": \"Paris\"  # ещё одно лишнее поле\n",
        "}\n",
        "\n",
        "resume = Resume.model_validate(data)\n",
        "\n",
        "print(resume.model_dump())  # {'name': 'Alice', 'email': 'alice@example.com', 'age': 30, 'location': 'Paris'}\n",
        "print(resume.model_extra)   # {'age': 30, 'location': 'Paris'}\n",
        "\n",
        "\n",
        "#extra\t- Что делать с лишними полями: allow (разрешить), ignore (игнорировать), forbid (ошибка)"
      ],
      "metadata": {
        "colab": {
          "base_uri": "https://localhost:8080/"
        },
        "id": "CbwVa3uY1nfX",
        "outputId": "6e1f2e21-2bd5-4b76-e3b3-ecdbcf4a27a4"
      },
      "execution_count": 191,
      "outputs": [
        {
          "output_type": "stream",
          "name": "stdout",
          "text": [
            "{'name': 'Alice', 'email': 'alice@example.com', 'age': 30, 'location': 'Paris'}\n",
            "{'age': 30, 'location': 'Paris'}\n"
          ]
        }
      ]
    },
    {
      "cell_type": "markdown",
      "source": [
        "# **Field**"
      ],
      "metadata": {
        "id": "KNYMiOJpHZZm"
      }
    },
    {
      "cell_type": "markdown",
      "source": [
        "Field — это способ настроить поведение поля в Pydantic.\n",
        "\n",
        "Например:\n",
        "\n",
        "Сделать другое имя в JSON\n",
        "\n",
        "Ограничить длину строки\n",
        "\n",
        "Написать описание\n",
        "\n",
        "`...` — означает: поле обязательное\n",
        "\n",
        "`min_length=2` — минимум 2 буквы\n",
        "\n",
        "`max_length=10` — максимум 10 букв\n",
        "\n",
        "`description=\"...\"` — просто текст для документации"
      ],
      "metadata": {
        "id": "6yhe_0OkHbNC"
      }
    },
    {
      "cell_type": "code",
      "source": [
        "from pydantic import BaseModel, Field\n",
        "\n",
        "class User(BaseModel):\n",
        "    name: str = Field(..., min_length=2, max_length=10, description=\"Имя пользователя\")"
      ],
      "metadata": {
        "id": "I6BzFjxOEiax"
      },
      "execution_count": 192,
      "outputs": []
    },
    {
      "cell_type": "code",
      "source": [
        "User(name=\"Al\")"
      ],
      "metadata": {
        "colab": {
          "base_uri": "https://localhost:8080/"
        },
        "id": "EVvvUt0_FQ2V",
        "outputId": "d6422539-2d9e-4f45-9558-47fbf239df7f"
      },
      "execution_count": 182,
      "outputs": [
        {
          "output_type": "execute_result",
          "data": {
            "text/plain": [
              "User(name='Al')"
            ]
          },
          "metadata": {},
          "execution_count": 182
        }
      ]
    },
    {
      "cell_type": "code",
      "source": [
        "User(name=\"A\") # Ошибка — слишком коротко"
      ],
      "metadata": {
        "colab": {
          "base_uri": "https://localhost:8080/",
          "height": 315
        },
        "id": "JZVwTJ6eFZum",
        "outputId": "46cd519e-c8a6-4046-c224-fff722533e7c"
      },
      "execution_count": 169,
      "outputs": [
        {
          "output_type": "error",
          "ename": "ValidationError",
          "evalue": "1 validation error for User\nname\n  String should have at least 2 characters [type=string_too_short, input_value='A', input_type=str]\n    For further information visit https://errors.pydantic.dev/2.11/v/string_too_short",
          "traceback": [
            "\u001b[0;31m---------------------------------------------------------------------------\u001b[0m",
            "\u001b[0;31mValidationError\u001b[0m                           Traceback (most recent call last)",
            "\u001b[0;32m<ipython-input-169-c9538f6238eb>\u001b[0m in \u001b[0;36m<cell line: 0>\u001b[0;34m()\u001b[0m\n\u001b[0;32m----> 1\u001b[0;31m \u001b[0mUser\u001b[0m\u001b[0;34m(\u001b[0m\u001b[0mname\u001b[0m\u001b[0;34m=\u001b[0m\u001b[0;34m\"A\"\u001b[0m\u001b[0;34m)\u001b[0m\u001b[0;34m\u001b[0m\u001b[0;34m\u001b[0m\u001b[0m\n\u001b[0m",
            "\u001b[0;32m/usr/local/lib/python3.11/dist-packages/pydantic/main.py\u001b[0m in \u001b[0;36m__init__\u001b[0;34m(self, **data)\u001b[0m\n\u001b[1;32m    251\u001b[0m         \u001b[0;31m# `__tracebackhide__` tells pytest and some other tools to omit this function from tracebacks\u001b[0m\u001b[0;34m\u001b[0m\u001b[0;34m\u001b[0m\u001b[0m\n\u001b[1;32m    252\u001b[0m         \u001b[0m__tracebackhide__\u001b[0m \u001b[0;34m=\u001b[0m \u001b[0;32mTrue\u001b[0m\u001b[0;34m\u001b[0m\u001b[0;34m\u001b[0m\u001b[0m\n\u001b[0;32m--> 253\u001b[0;31m         \u001b[0mvalidated_self\u001b[0m \u001b[0;34m=\u001b[0m \u001b[0mself\u001b[0m\u001b[0;34m.\u001b[0m\u001b[0m__pydantic_validator__\u001b[0m\u001b[0;34m.\u001b[0m\u001b[0mvalidate_python\u001b[0m\u001b[0;34m(\u001b[0m\u001b[0mdata\u001b[0m\u001b[0;34m,\u001b[0m \u001b[0mself_instance\u001b[0m\u001b[0;34m=\u001b[0m\u001b[0mself\u001b[0m\u001b[0;34m)\u001b[0m\u001b[0;34m\u001b[0m\u001b[0;34m\u001b[0m\u001b[0m\n\u001b[0m\u001b[1;32m    254\u001b[0m         \u001b[0;32mif\u001b[0m \u001b[0mself\u001b[0m \u001b[0;32mis\u001b[0m \u001b[0;32mnot\u001b[0m \u001b[0mvalidated_self\u001b[0m\u001b[0;34m:\u001b[0m\u001b[0;34m\u001b[0m\u001b[0;34m\u001b[0m\u001b[0m\n\u001b[1;32m    255\u001b[0m             warnings.warn(\n",
            "\u001b[0;31mValidationError\u001b[0m: 1 validation error for User\nname\n  String should have at least 2 characters [type=string_too_short, input_value='A', input_type=str]\n    For further information visit https://errors.pydantic.dev/2.11/v/string_too_short"
          ]
        }
      ]
    },
    {
      "cell_type": "code",
      "source": [
        "User(name=\"Alexanderrrr\") # Ошибка — слишком длинное имя"
      ],
      "metadata": {
        "colab": {
          "base_uri": "https://localhost:8080/",
          "height": 315
        },
        "id": "SuTAGN-dFeYM",
        "outputId": "11f8ad4a-76db-4a88-b895-8fc94e702456"
      },
      "execution_count": 171,
      "outputs": [
        {
          "output_type": "error",
          "ename": "ValidationError",
          "evalue": "1 validation error for User\nname\n  String should have at most 10 characters [type=string_too_long, input_value='Alexanderrrr', input_type=str]\n    For further information visit https://errors.pydantic.dev/2.11/v/string_too_long",
          "traceback": [
            "\u001b[0;31m---------------------------------------------------------------------------\u001b[0m",
            "\u001b[0;31mValidationError\u001b[0m                           Traceback (most recent call last)",
            "\u001b[0;32m<ipython-input-171-e863584466a2>\u001b[0m in \u001b[0;36m<cell line: 0>\u001b[0;34m()\u001b[0m\n\u001b[0;32m----> 1\u001b[0;31m \u001b[0mUser\u001b[0m\u001b[0;34m(\u001b[0m\u001b[0mname\u001b[0m\u001b[0;34m=\u001b[0m\u001b[0;34m\"Alexanderrrr\"\u001b[0m\u001b[0;34m)\u001b[0m\u001b[0;34m\u001b[0m\u001b[0;34m\u001b[0m\u001b[0m\n\u001b[0m",
            "\u001b[0;32m/usr/local/lib/python3.11/dist-packages/pydantic/main.py\u001b[0m in \u001b[0;36m__init__\u001b[0;34m(self, **data)\u001b[0m\n\u001b[1;32m    251\u001b[0m         \u001b[0;31m# `__tracebackhide__` tells pytest and some other tools to omit this function from tracebacks\u001b[0m\u001b[0;34m\u001b[0m\u001b[0;34m\u001b[0m\u001b[0m\n\u001b[1;32m    252\u001b[0m         \u001b[0m__tracebackhide__\u001b[0m \u001b[0;34m=\u001b[0m \u001b[0;32mTrue\u001b[0m\u001b[0;34m\u001b[0m\u001b[0;34m\u001b[0m\u001b[0m\n\u001b[0;32m--> 253\u001b[0;31m         \u001b[0mvalidated_self\u001b[0m \u001b[0;34m=\u001b[0m \u001b[0mself\u001b[0m\u001b[0;34m.\u001b[0m\u001b[0m__pydantic_validator__\u001b[0m\u001b[0;34m.\u001b[0m\u001b[0mvalidate_python\u001b[0m\u001b[0;34m(\u001b[0m\u001b[0mdata\u001b[0m\u001b[0;34m,\u001b[0m \u001b[0mself_instance\u001b[0m\u001b[0;34m=\u001b[0m\u001b[0mself\u001b[0m\u001b[0;34m)\u001b[0m\u001b[0;34m\u001b[0m\u001b[0;34m\u001b[0m\u001b[0m\n\u001b[0m\u001b[1;32m    254\u001b[0m         \u001b[0;32mif\u001b[0m \u001b[0mself\u001b[0m \u001b[0;32mis\u001b[0m \u001b[0;32mnot\u001b[0m \u001b[0mvalidated_self\u001b[0m\u001b[0;34m:\u001b[0m\u001b[0;34m\u001b[0m\u001b[0;34m\u001b[0m\u001b[0m\n\u001b[1;32m    255\u001b[0m             warnings.warn(\n",
            "\u001b[0;31mValidationError\u001b[0m: 1 validation error for User\nname\n  String should have at most 10 characters [type=string_too_long, input_value='Alexanderrrr', input_type=str]\n    For further information visit https://errors.pydantic.dev/2.11/v/string_too_long"
          ]
        }
      ]
    },
    {
      "cell_type": "code",
      "source": [
        "User() # Ошибка — не передано имя"
      ],
      "metadata": {
        "colab": {
          "base_uri": "https://localhost:8080/",
          "height": 315
        },
        "id": "VLlyHS3UFi1n",
        "outputId": "ea61875a-f780-426e-dd21-253e6a5d882d"
      },
      "execution_count": 172,
      "outputs": [
        {
          "output_type": "error",
          "ename": "ValidationError",
          "evalue": "1 validation error for User\nname\n  Field required [type=missing, input_value={}, input_type=dict]\n    For further information visit https://errors.pydantic.dev/2.11/v/missing",
          "traceback": [
            "\u001b[0;31m---------------------------------------------------------------------------\u001b[0m",
            "\u001b[0;31mValidationError\u001b[0m                           Traceback (most recent call last)",
            "\u001b[0;32m<ipython-input-172-85c798e616bf>\u001b[0m in \u001b[0;36m<cell line: 0>\u001b[0;34m()\u001b[0m\n\u001b[0;32m----> 1\u001b[0;31m \u001b[0mUser\u001b[0m\u001b[0;34m(\u001b[0m\u001b[0;34m)\u001b[0m\u001b[0;34m\u001b[0m\u001b[0;34m\u001b[0m\u001b[0m\n\u001b[0m",
            "\u001b[0;32m/usr/local/lib/python3.11/dist-packages/pydantic/main.py\u001b[0m in \u001b[0;36m__init__\u001b[0;34m(self, **data)\u001b[0m\n\u001b[1;32m    251\u001b[0m         \u001b[0;31m# `__tracebackhide__` tells pytest and some other tools to omit this function from tracebacks\u001b[0m\u001b[0;34m\u001b[0m\u001b[0;34m\u001b[0m\u001b[0m\n\u001b[1;32m    252\u001b[0m         \u001b[0m__tracebackhide__\u001b[0m \u001b[0;34m=\u001b[0m \u001b[0;32mTrue\u001b[0m\u001b[0;34m\u001b[0m\u001b[0;34m\u001b[0m\u001b[0m\n\u001b[0;32m--> 253\u001b[0;31m         \u001b[0mvalidated_self\u001b[0m \u001b[0;34m=\u001b[0m \u001b[0mself\u001b[0m\u001b[0;34m.\u001b[0m\u001b[0m__pydantic_validator__\u001b[0m\u001b[0;34m.\u001b[0m\u001b[0mvalidate_python\u001b[0m\u001b[0;34m(\u001b[0m\u001b[0mdata\u001b[0m\u001b[0;34m,\u001b[0m \u001b[0mself_instance\u001b[0m\u001b[0;34m=\u001b[0m\u001b[0mself\u001b[0m\u001b[0;34m)\u001b[0m\u001b[0;34m\u001b[0m\u001b[0;34m\u001b[0m\u001b[0m\n\u001b[0m\u001b[1;32m    254\u001b[0m         \u001b[0;32mif\u001b[0m \u001b[0mself\u001b[0m \u001b[0;32mis\u001b[0m \u001b[0;32mnot\u001b[0m \u001b[0mvalidated_self\u001b[0m\u001b[0;34m:\u001b[0m\u001b[0;34m\u001b[0m\u001b[0;34m\u001b[0m\u001b[0m\n\u001b[1;32m    255\u001b[0m             warnings.warn(\n",
            "\u001b[0;31mValidationError\u001b[0m: 1 validation error for User\nname\n  Field required [type=missing, input_value={}, input_type=dict]\n    For further information visit https://errors.pydantic.dev/2.11/v/missing"
          ]
        }
      ]
    },
    {
      "cell_type": "markdown",
      "source": [
        "# **Optional**"
      ],
      "metadata": {
        "id": "g0-tWXjitwJy"
      }
    },
    {
      "cell_type": "markdown",
      "source": [
        "Optional — это специальный тип из модуля typing, который указывает, что значение может быть либо указанного типа, либо None. Это важный инструмент для\n",
        "\n",
        "Ключевые моменты:\n",
        "\n",
        "`Optional[str]` означает: поле может быть `str` или `None`.\n",
        "\n",
        "`= None` означает: если не передать поле, оно будет `None` по умолчанию."
      ],
      "metadata": {
        "id": "6GwWEqZCurNF"
      }
    },
    {
      "cell_type": "code",
      "source": [
        "from pydantic import BaseModel\n",
        "\n",
        "class User(BaseModel):\n",
        "    name: str  # обязательно\n",
        "\n",
        "# Пример 1 — передаём name\n",
        "user1 = User(name=\"Иван\")\n",
        "print(user1)\n",
        "\n",
        "# Пример 2 — не передаём name\n",
        "user2 = User()  # ❌ выдаст ошибку"
      ],
      "metadata": {
        "colab": {
          "base_uri": "https://localhost:8080/",
          "height": 367
        },
        "id": "5CHzI9ibtyjZ",
        "outputId": "10cb6a20-2292-4ecb-efd6-3626f72eeaee"
      },
      "execution_count": 193,
      "outputs": [
        {
          "output_type": "stream",
          "name": "stdout",
          "text": [
            "name='Иван'\n"
          ]
        },
        {
          "output_type": "error",
          "ename": "ValidationError",
          "evalue": "1 validation error for User\nname\n  Field required [type=missing, input_value={}, input_type=dict]\n    For further information visit https://errors.pydantic.dev/2.11/v/missing",
          "traceback": [
            "\u001b[0;31m---------------------------------------------------------------------------\u001b[0m",
            "\u001b[0;31mValidationError\u001b[0m                           Traceback (most recent call last)",
            "\u001b[0;32m<ipython-input-193-4689c8ed18c6>\u001b[0m in \u001b[0;36m<cell line: 0>\u001b[0;34m()\u001b[0m\n\u001b[1;32m      9\u001b[0m \u001b[0;34m\u001b[0m\u001b[0m\n\u001b[1;32m     10\u001b[0m \u001b[0;31m# Пример 2 — не передаём name\u001b[0m\u001b[0;34m\u001b[0m\u001b[0;34m\u001b[0m\u001b[0m\n\u001b[0;32m---> 11\u001b[0;31m \u001b[0muser2\u001b[0m \u001b[0;34m=\u001b[0m \u001b[0mUser\u001b[0m\u001b[0;34m(\u001b[0m\u001b[0;34m)\u001b[0m  \u001b[0;31m# ❌ выдаст ошибку\u001b[0m\u001b[0;34m\u001b[0m\u001b[0;34m\u001b[0m\u001b[0m\n\u001b[0m",
            "\u001b[0;32m/usr/local/lib/python3.11/dist-packages/pydantic/main.py\u001b[0m in \u001b[0;36m__init__\u001b[0;34m(self, **data)\u001b[0m\n\u001b[1;32m    251\u001b[0m         \u001b[0;31m# `__tracebackhide__` tells pytest and some other tools to omit this function from tracebacks\u001b[0m\u001b[0;34m\u001b[0m\u001b[0;34m\u001b[0m\u001b[0m\n\u001b[1;32m    252\u001b[0m         \u001b[0m__tracebackhide__\u001b[0m \u001b[0;34m=\u001b[0m \u001b[0;32mTrue\u001b[0m\u001b[0;34m\u001b[0m\u001b[0;34m\u001b[0m\u001b[0m\n\u001b[0;32m--> 253\u001b[0;31m         \u001b[0mvalidated_self\u001b[0m \u001b[0;34m=\u001b[0m \u001b[0mself\u001b[0m\u001b[0;34m.\u001b[0m\u001b[0m__pydantic_validator__\u001b[0m\u001b[0;34m.\u001b[0m\u001b[0mvalidate_python\u001b[0m\u001b[0;34m(\u001b[0m\u001b[0mdata\u001b[0m\u001b[0;34m,\u001b[0m \u001b[0mself_instance\u001b[0m\u001b[0;34m=\u001b[0m\u001b[0mself\u001b[0m\u001b[0;34m)\u001b[0m\u001b[0;34m\u001b[0m\u001b[0;34m\u001b[0m\u001b[0m\n\u001b[0m\u001b[1;32m    254\u001b[0m         \u001b[0;32mif\u001b[0m \u001b[0mself\u001b[0m \u001b[0;32mis\u001b[0m \u001b[0;32mnot\u001b[0m \u001b[0mvalidated_self\u001b[0m\u001b[0;34m:\u001b[0m\u001b[0;34m\u001b[0m\u001b[0;34m\u001b[0m\u001b[0m\n\u001b[1;32m    255\u001b[0m             warnings.warn(\n",
            "\u001b[0;31mValidationError\u001b[0m: 1 validation error for User\nname\n  Field required [type=missing, input_value={}, input_type=dict]\n    For further information visit https://errors.pydantic.dev/2.11/v/missing"
          ]
        }
      ]
    },
    {
      "cell_type": "code",
      "source": [
        "from pydantic import BaseModel\n",
        "\n",
        "class User(BaseModel):\n",
        "    name: str = None  # обязательно\n",
        "\n",
        "# Пример 1 — передаём name\n",
        "user1 = User(name=\"Иван\")\n",
        "print(user1)\n",
        "\n",
        "# Пример 2 — не передаём name\n",
        "user2 = User()  # выдаст None\n",
        "print(user2)"
      ],
      "metadata": {
        "colab": {
          "base_uri": "https://localhost:8080/"
        },
        "id": "wTfoHigOQBEd",
        "outputId": "b8fa9b88-7815-4bd1-e253-bd466071b274"
      },
      "execution_count": 194,
      "outputs": [
        {
          "output_type": "stream",
          "name": "stdout",
          "text": [
            "name='Иван'\n",
            "name=None\n"
          ]
        }
      ]
    },
    {
      "cell_type": "code",
      "source": [
        "from typing import Optional\n",
        "from pydantic import BaseModel\n",
        "\n",
        "class User(BaseModel):\n",
        "    name: Optional[str]\n",
        "\n",
        "user1 = User(name=\"Иван\")\n",
        "print(user1)\n",
        "\n",
        "user2 = User()\n",
        "print(user2)"
      ],
      "metadata": {
        "colab": {
          "base_uri": "https://localhost:8080/",
          "height": 384
        },
        "id": "TGPFTd0nt35t",
        "outputId": "cee473eb-5721-401f-d648-6e0c2f199fff"
      },
      "execution_count": 195,
      "outputs": [
        {
          "output_type": "stream",
          "name": "stdout",
          "text": [
            "name='Иван'\n"
          ]
        },
        {
          "output_type": "error",
          "ename": "ValidationError",
          "evalue": "1 validation error for User\nname\n  Field required [type=missing, input_value={}, input_type=dict]\n    For further information visit https://errors.pydantic.dev/2.11/v/missing",
          "traceback": [
            "\u001b[0;31m---------------------------------------------------------------------------\u001b[0m",
            "\u001b[0;31mValidationError\u001b[0m                           Traceback (most recent call last)",
            "\u001b[0;32m<ipython-input-195-c57c3b2008f8>\u001b[0m in \u001b[0;36m<cell line: 0>\u001b[0;34m()\u001b[0m\n\u001b[1;32m      8\u001b[0m \u001b[0mprint\u001b[0m\u001b[0;34m(\u001b[0m\u001b[0muser1\u001b[0m\u001b[0;34m)\u001b[0m\u001b[0;34m\u001b[0m\u001b[0;34m\u001b[0m\u001b[0m\n\u001b[1;32m      9\u001b[0m \u001b[0;34m\u001b[0m\u001b[0m\n\u001b[0;32m---> 10\u001b[0;31m \u001b[0muser2\u001b[0m \u001b[0;34m=\u001b[0m \u001b[0mUser\u001b[0m\u001b[0;34m(\u001b[0m\u001b[0;34m)\u001b[0m\u001b[0;34m\u001b[0m\u001b[0;34m\u001b[0m\u001b[0m\n\u001b[0m\u001b[1;32m     11\u001b[0m \u001b[0mprint\u001b[0m\u001b[0;34m(\u001b[0m\u001b[0muser2\u001b[0m\u001b[0;34m)\u001b[0m\u001b[0;34m\u001b[0m\u001b[0;34m\u001b[0m\u001b[0m\n",
            "\u001b[0;32m/usr/local/lib/python3.11/dist-packages/pydantic/main.py\u001b[0m in \u001b[0;36m__init__\u001b[0;34m(self, **data)\u001b[0m\n\u001b[1;32m    251\u001b[0m         \u001b[0;31m# `__tracebackhide__` tells pytest and some other tools to omit this function from tracebacks\u001b[0m\u001b[0;34m\u001b[0m\u001b[0;34m\u001b[0m\u001b[0m\n\u001b[1;32m    252\u001b[0m         \u001b[0m__tracebackhide__\u001b[0m \u001b[0;34m=\u001b[0m \u001b[0;32mTrue\u001b[0m\u001b[0;34m\u001b[0m\u001b[0;34m\u001b[0m\u001b[0m\n\u001b[0;32m--> 253\u001b[0;31m         \u001b[0mvalidated_self\u001b[0m \u001b[0;34m=\u001b[0m \u001b[0mself\u001b[0m\u001b[0;34m.\u001b[0m\u001b[0m__pydantic_validator__\u001b[0m\u001b[0;34m.\u001b[0m\u001b[0mvalidate_python\u001b[0m\u001b[0;34m(\u001b[0m\u001b[0mdata\u001b[0m\u001b[0;34m,\u001b[0m \u001b[0mself_instance\u001b[0m\u001b[0;34m=\u001b[0m\u001b[0mself\u001b[0m\u001b[0;34m)\u001b[0m\u001b[0;34m\u001b[0m\u001b[0;34m\u001b[0m\u001b[0m\n\u001b[0m\u001b[1;32m    254\u001b[0m         \u001b[0;32mif\u001b[0m \u001b[0mself\u001b[0m \u001b[0;32mis\u001b[0m \u001b[0;32mnot\u001b[0m \u001b[0mvalidated_self\u001b[0m\u001b[0;34m:\u001b[0m\u001b[0;34m\u001b[0m\u001b[0;34m\u001b[0m\u001b[0m\n\u001b[1;32m    255\u001b[0m             warnings.warn(\n",
            "\u001b[0;31mValidationError\u001b[0m: 1 validation error for User\nname\n  Field required [type=missing, input_value={}, input_type=dict]\n    For further information visit https://errors.pydantic.dev/2.11/v/missing"
          ]
        }
      ]
    },
    {
      "cell_type": "code",
      "source": [
        "from typing import Optional\n",
        "from pydantic import BaseModel\n",
        "\n",
        "class User(BaseModel):\n",
        "    name: Optional[str] = None\n",
        "\n",
        "user1 = User(name=\"Иван\")\n",
        "print(user1)\n",
        "\n",
        "user2 = User()\n",
        "print(user2)"
      ],
      "metadata": {
        "colab": {
          "base_uri": "https://localhost:8080/"
        },
        "id": "SQsOzyxiCcZ_",
        "outputId": "90929369-8f73-418a-ab29-4a1b5ac08e14"
      },
      "execution_count": 196,
      "outputs": [
        {
          "output_type": "stream",
          "name": "stdout",
          "text": [
            "name='Иван'\n",
            "name=None\n"
          ]
        }
      ]
    }
  ]
}