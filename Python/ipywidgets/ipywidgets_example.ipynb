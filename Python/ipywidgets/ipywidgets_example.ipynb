{
  "nbformat": 4,
  "nbformat_minor": 0,
  "metadata": {
    "colab": {
      "provenance": []
    },
    "kernelspec": {
      "name": "python3",
      "display_name": "Python 3"
    },
    "language_info": {
      "name": "python"
    },
    "widgets": {
      "application/vnd.jupyter.widget-state+json": {
        "0ffe5e8b54d94db2a2fcc3266237a487": {
          "model_module": "@jupyter-widgets/controls",
          "model_name": "DropdownModel",
          "model_module_version": "1.5.0",
          "state": {
            "_dom_classes": [],
            "_model_module": "@jupyter-widgets/controls",
            "_model_module_version": "1.5.0",
            "_model_name": "DropdownModel",
            "_options_labels": [
              "Москва",
              "Санкт-Петербург",
              "Новосибирск"
            ],
            "_view_count": null,
            "_view_module": "@jupyter-widgets/controls",
            "_view_module_version": "1.5.0",
            "_view_name": "DropdownView",
            "description": "Город:",
            "description_tooltip": null,
            "disabled": false,
            "index": 0,
            "layout": "IPY_MODEL_51b1c3ea5c594da6a1c874ba77436fab",
            "style": "IPY_MODEL_42473c12d91b41c18b6cf4e8d4063aea"
          }
        },
        "51b1c3ea5c594da6a1c874ba77436fab": {
          "model_module": "@jupyter-widgets/base",
          "model_name": "LayoutModel",
          "model_module_version": "1.2.0",
          "state": {
            "_model_module": "@jupyter-widgets/base",
            "_model_module_version": "1.2.0",
            "_model_name": "LayoutModel",
            "_view_count": null,
            "_view_module": "@jupyter-widgets/base",
            "_view_module_version": "1.2.0",
            "_view_name": "LayoutView",
            "align_content": null,
            "align_items": null,
            "align_self": null,
            "border": null,
            "bottom": null,
            "display": null,
            "flex": null,
            "flex_flow": null,
            "grid_area": null,
            "grid_auto_columns": null,
            "grid_auto_flow": null,
            "grid_auto_rows": null,
            "grid_column": null,
            "grid_gap": null,
            "grid_row": null,
            "grid_template_areas": null,
            "grid_template_columns": null,
            "grid_template_rows": null,
            "height": null,
            "justify_content": null,
            "justify_items": null,
            "left": null,
            "margin": null,
            "max_height": null,
            "max_width": null,
            "min_height": null,
            "min_width": null,
            "object_fit": null,
            "object_position": null,
            "order": null,
            "overflow": null,
            "overflow_x": null,
            "overflow_y": null,
            "padding": null,
            "right": null,
            "top": null,
            "visibility": null,
            "width": null
          }
        },
        "42473c12d91b41c18b6cf4e8d4063aea": {
          "model_module": "@jupyter-widgets/controls",
          "model_name": "DescriptionStyleModel",
          "model_module_version": "1.5.0",
          "state": {
            "_model_module": "@jupyter-widgets/controls",
            "_model_module_version": "1.5.0",
            "_model_name": "DescriptionStyleModel",
            "_view_count": null,
            "_view_module": "@jupyter-widgets/base",
            "_view_module_version": "1.2.0",
            "_view_name": "StyleView",
            "description_width": ""
          }
        },
        "575968871bff47e5a0e054566747cc01": {
          "model_module": "@jupyter-widgets/controls",
          "model_name": "DropdownModel",
          "model_module_version": "1.5.0",
          "state": {
            "_dom_classes": [],
            "_model_module": "@jupyter-widgets/controls",
            "_model_module_version": "1.5.0",
            "_model_name": "DropdownModel",
            "_options_labels": [
              "🇷🇺 Россия",
              "🇺🇸 США",
              "🇫🇷 Франция"
            ],
            "_view_count": null,
            "_view_module": "@jupyter-widgets/controls",
            "_view_module_version": "1.5.0",
            "_view_name": "DropdownView",
            "description": "Страна:",
            "description_tooltip": null,
            "disabled": false,
            "index": 0,
            "layout": "IPY_MODEL_1ba38f34001f4058923d5361a2bef64c",
            "style": "IPY_MODEL_3786734f37634e8e96dfa2ee8d4f22f8"
          }
        },
        "1ba38f34001f4058923d5361a2bef64c": {
          "model_module": "@jupyter-widgets/base",
          "model_name": "LayoutModel",
          "model_module_version": "1.2.0",
          "state": {
            "_model_module": "@jupyter-widgets/base",
            "_model_module_version": "1.2.0",
            "_model_name": "LayoutModel",
            "_view_count": null,
            "_view_module": "@jupyter-widgets/base",
            "_view_module_version": "1.2.0",
            "_view_name": "LayoutView",
            "align_content": null,
            "align_items": null,
            "align_self": null,
            "border": null,
            "bottom": null,
            "display": null,
            "flex": null,
            "flex_flow": null,
            "grid_area": null,
            "grid_auto_columns": null,
            "grid_auto_flow": null,
            "grid_auto_rows": null,
            "grid_column": null,
            "grid_gap": null,
            "grid_row": null,
            "grid_template_areas": null,
            "grid_template_columns": null,
            "grid_template_rows": null,
            "height": null,
            "justify_content": null,
            "justify_items": null,
            "left": null,
            "margin": null,
            "max_height": null,
            "max_width": null,
            "min_height": null,
            "min_width": null,
            "object_fit": null,
            "object_position": null,
            "order": null,
            "overflow": null,
            "overflow_x": null,
            "overflow_y": null,
            "padding": null,
            "right": null,
            "top": null,
            "visibility": null,
            "width": null
          }
        },
        "3786734f37634e8e96dfa2ee8d4f22f8": {
          "model_module": "@jupyter-widgets/controls",
          "model_name": "DescriptionStyleModel",
          "model_module_version": "1.5.0",
          "state": {
            "_model_module": "@jupyter-widgets/controls",
            "_model_module_version": "1.5.0",
            "_model_name": "DescriptionStyleModel",
            "_view_count": null,
            "_view_module": "@jupyter-widgets/base",
            "_view_module_version": "1.2.0",
            "_view_name": "StyleView",
            "description_width": ""
          }
        },
        "a5f52c093a2a455e9aa5b10fe59a6e2e": {
          "model_module": "@jupyter-widgets/controls",
          "model_name": "DropdownModel",
          "model_module_version": "1.5.0",
          "state": {
            "_dom_classes": [],
            "_model_module": "@jupyter-widgets/controls",
            "_model_module_version": "1.5.0",
            "_model_name": "DropdownModel",
            "_options_labels": [
              "Кошка",
              "Собака",
              "Попугай"
            ],
            "_view_count": null,
            "_view_module": "@jupyter-widgets/controls",
            "_view_module_version": "1.5.0",
            "_view_name": "DropdownView",
            "description": "Питомец:",
            "description_tooltip": null,
            "disabled": false,
            "index": 1,
            "layout": "IPY_MODEL_b257578ca27c4e84abcb142ee7c75280",
            "style": "IPY_MODEL_a9c07c9192044ca9a3d6df691f653196"
          }
        },
        "b257578ca27c4e84abcb142ee7c75280": {
          "model_module": "@jupyter-widgets/base",
          "model_name": "LayoutModel",
          "model_module_version": "1.2.0",
          "state": {
            "_model_module": "@jupyter-widgets/base",
            "_model_module_version": "1.2.0",
            "_model_name": "LayoutModel",
            "_view_count": null,
            "_view_module": "@jupyter-widgets/base",
            "_view_module_version": "1.2.0",
            "_view_name": "LayoutView",
            "align_content": null,
            "align_items": null,
            "align_self": null,
            "border": null,
            "bottom": null,
            "display": null,
            "flex": null,
            "flex_flow": null,
            "grid_area": null,
            "grid_auto_columns": null,
            "grid_auto_flow": null,
            "grid_auto_rows": null,
            "grid_column": null,
            "grid_gap": null,
            "grid_row": null,
            "grid_template_areas": null,
            "grid_template_columns": null,
            "grid_template_rows": null,
            "height": null,
            "justify_content": null,
            "justify_items": null,
            "left": null,
            "margin": null,
            "max_height": null,
            "max_width": null,
            "min_height": null,
            "min_width": null,
            "object_fit": null,
            "object_position": null,
            "order": null,
            "overflow": null,
            "overflow_x": null,
            "overflow_y": null,
            "padding": null,
            "right": null,
            "top": null,
            "visibility": null,
            "width": null
          }
        },
        "a9c07c9192044ca9a3d6df691f653196": {
          "model_module": "@jupyter-widgets/controls",
          "model_name": "DescriptionStyleModel",
          "model_module_version": "1.5.0",
          "state": {
            "_model_module": "@jupyter-widgets/controls",
            "_model_module_version": "1.5.0",
            "_model_name": "DescriptionStyleModel",
            "_view_count": null,
            "_view_module": "@jupyter-widgets/base",
            "_view_module_version": "1.2.0",
            "_view_name": "StyleView",
            "description_width": ""
          }
        },
        "42a2a05396a142d9971a44542f35da19": {
          "model_module": "@jupyter-widgets/controls",
          "model_name": "DropdownModel",
          "model_module_version": "1.5.0",
          "state": {
            "_dom_classes": [],
            "_model_module": "@jupyter-widgets/controls",
            "_model_module_version": "1.5.0",
            "_model_name": "DropdownModel",
            "_options_labels": [
              "🇷🇺 Россия",
              "🇺🇸 США",
              "🇫🇷 Франция"
            ],
            "_view_count": null,
            "_view_module": "@jupyter-widgets/controls",
            "_view_module_version": "1.5.0",
            "_view_name": "DropdownView",
            "description": "Страна:",
            "description_tooltip": null,
            "disabled": false,
            "index": 1,
            "layout": "IPY_MODEL_97eb1d728c0c4f5fa6a25351a5eb7649",
            "style": "IPY_MODEL_5b543085473c4b1688d5de34bf34e5d8"
          }
        },
        "97eb1d728c0c4f5fa6a25351a5eb7649": {
          "model_module": "@jupyter-widgets/base",
          "model_name": "LayoutModel",
          "model_module_version": "1.2.0",
          "state": {
            "_model_module": "@jupyter-widgets/base",
            "_model_module_version": "1.2.0",
            "_model_name": "LayoutModel",
            "_view_count": null,
            "_view_module": "@jupyter-widgets/base",
            "_view_module_version": "1.2.0",
            "_view_name": "LayoutView",
            "align_content": null,
            "align_items": null,
            "align_self": null,
            "border": null,
            "bottom": null,
            "display": null,
            "flex": null,
            "flex_flow": null,
            "grid_area": null,
            "grid_auto_columns": null,
            "grid_auto_flow": null,
            "grid_auto_rows": null,
            "grid_column": null,
            "grid_gap": null,
            "grid_row": null,
            "grid_template_areas": null,
            "grid_template_columns": null,
            "grid_template_rows": null,
            "height": null,
            "justify_content": null,
            "justify_items": null,
            "left": null,
            "margin": null,
            "max_height": null,
            "max_width": null,
            "min_height": null,
            "min_width": null,
            "object_fit": null,
            "object_position": null,
            "order": null,
            "overflow": null,
            "overflow_x": null,
            "overflow_y": null,
            "padding": null,
            "right": null,
            "top": null,
            "visibility": null,
            "width": null
          }
        },
        "5b543085473c4b1688d5de34bf34e5d8": {
          "model_module": "@jupyter-widgets/controls",
          "model_name": "DescriptionStyleModel",
          "model_module_version": "1.5.0",
          "state": {
            "_model_module": "@jupyter-widgets/controls",
            "_model_module_version": "1.5.0",
            "_model_name": "DescriptionStyleModel",
            "_view_count": null,
            "_view_module": "@jupyter-widgets/base",
            "_view_module_version": "1.2.0",
            "_view_name": "StyleView",
            "description_width": ""
          }
        },
        "a5710c22f5d14685906456b6d81ab8b5": {
          "model_module": "@jupyter-widgets/controls",
          "model_name": "VBoxModel",
          "model_module_version": "1.5.0",
          "state": {
            "_dom_classes": [
              "widget-interact"
            ],
            "_model_module": "@jupyter-widgets/controls",
            "_model_module_version": "1.5.0",
            "_model_name": "VBoxModel",
            "_view_count": null,
            "_view_module": "@jupyter-widgets/controls",
            "_view_module_version": "1.5.0",
            "_view_name": "VBoxView",
            "box_style": "",
            "children": [
              "IPY_MODEL_31228323b2684a10aad536586886bd5d",
              "IPY_MODEL_088a1d77a98d4fad822b90e4e11b6047"
            ],
            "layout": "IPY_MODEL_e28c6b3ca85f43778f7e3e5de39415c2"
          }
        },
        "31228323b2684a10aad536586886bd5d": {
          "model_module": "@jupyter-widgets/controls",
          "model_name": "DropdownModel",
          "model_module_version": "1.5.0",
          "state": {
            "_dom_classes": [],
            "_model_module": "@jupyter-widgets/controls",
            "_model_module_version": "1.5.0",
            "_model_name": "DropdownModel",
            "_options_labels": [
              "Москва",
              "Казань",
              "Сочи"
            ],
            "_view_count": null,
            "_view_module": "@jupyter-widgets/controls",
            "_view_module_version": "1.5.0",
            "_view_name": "DropdownView",
            "description": "город",
            "description_tooltip": null,
            "disabled": false,
            "index": 0,
            "layout": "IPY_MODEL_bb92a6421d2243fab9aed631ec816e4e",
            "style": "IPY_MODEL_65bd4be8e1dc4e82a69c6596b758484e"
          }
        },
        "088a1d77a98d4fad822b90e4e11b6047": {
          "model_module": "@jupyter-widgets/output",
          "model_name": "OutputModel",
          "model_module_version": "1.0.0",
          "state": {
            "_dom_classes": [],
            "_model_module": "@jupyter-widgets/output",
            "_model_module_version": "1.0.0",
            "_model_name": "OutputModel",
            "_view_count": null,
            "_view_module": "@jupyter-widgets/output",
            "_view_module_version": "1.0.0",
            "_view_name": "OutputView",
            "layout": "IPY_MODEL_dbc4c50c51eb4c1697863f337add7a33",
            "msg_id": "",
            "outputs": [
              {
                "output_type": "stream",
                "name": "stdout",
                "text": [
                  "Выбранный город: Москва\n"
                ]
              }
            ]
          }
        },
        "e28c6b3ca85f43778f7e3e5de39415c2": {
          "model_module": "@jupyter-widgets/base",
          "model_name": "LayoutModel",
          "model_module_version": "1.2.0",
          "state": {
            "_model_module": "@jupyter-widgets/base",
            "_model_module_version": "1.2.0",
            "_model_name": "LayoutModel",
            "_view_count": null,
            "_view_module": "@jupyter-widgets/base",
            "_view_module_version": "1.2.0",
            "_view_name": "LayoutView",
            "align_content": null,
            "align_items": null,
            "align_self": null,
            "border": null,
            "bottom": null,
            "display": null,
            "flex": null,
            "flex_flow": null,
            "grid_area": null,
            "grid_auto_columns": null,
            "grid_auto_flow": null,
            "grid_auto_rows": null,
            "grid_column": null,
            "grid_gap": null,
            "grid_row": null,
            "grid_template_areas": null,
            "grid_template_columns": null,
            "grid_template_rows": null,
            "height": null,
            "justify_content": null,
            "justify_items": null,
            "left": null,
            "margin": null,
            "max_height": null,
            "max_width": null,
            "min_height": null,
            "min_width": null,
            "object_fit": null,
            "object_position": null,
            "order": null,
            "overflow": null,
            "overflow_x": null,
            "overflow_y": null,
            "padding": null,
            "right": null,
            "top": null,
            "visibility": null,
            "width": null
          }
        },
        "bb92a6421d2243fab9aed631ec816e4e": {
          "model_module": "@jupyter-widgets/base",
          "model_name": "LayoutModel",
          "model_module_version": "1.2.0",
          "state": {
            "_model_module": "@jupyter-widgets/base",
            "_model_module_version": "1.2.0",
            "_model_name": "LayoutModel",
            "_view_count": null,
            "_view_module": "@jupyter-widgets/base",
            "_view_module_version": "1.2.0",
            "_view_name": "LayoutView",
            "align_content": null,
            "align_items": null,
            "align_self": null,
            "border": null,
            "bottom": null,
            "display": null,
            "flex": null,
            "flex_flow": null,
            "grid_area": null,
            "grid_auto_columns": null,
            "grid_auto_flow": null,
            "grid_auto_rows": null,
            "grid_column": null,
            "grid_gap": null,
            "grid_row": null,
            "grid_template_areas": null,
            "grid_template_columns": null,
            "grid_template_rows": null,
            "height": null,
            "justify_content": null,
            "justify_items": null,
            "left": null,
            "margin": null,
            "max_height": null,
            "max_width": null,
            "min_height": null,
            "min_width": null,
            "object_fit": null,
            "object_position": null,
            "order": null,
            "overflow": null,
            "overflow_x": null,
            "overflow_y": null,
            "padding": null,
            "right": null,
            "top": null,
            "visibility": null,
            "width": null
          }
        },
        "65bd4be8e1dc4e82a69c6596b758484e": {
          "model_module": "@jupyter-widgets/controls",
          "model_name": "DescriptionStyleModel",
          "model_module_version": "1.5.0",
          "state": {
            "_model_module": "@jupyter-widgets/controls",
            "_model_module_version": "1.5.0",
            "_model_name": "DescriptionStyleModel",
            "_view_count": null,
            "_view_module": "@jupyter-widgets/base",
            "_view_module_version": "1.2.0",
            "_view_name": "StyleView",
            "description_width": ""
          }
        },
        "dbc4c50c51eb4c1697863f337add7a33": {
          "model_module": "@jupyter-widgets/base",
          "model_name": "LayoutModel",
          "model_module_version": "1.2.0",
          "state": {
            "_model_module": "@jupyter-widgets/base",
            "_model_module_version": "1.2.0",
            "_model_name": "LayoutModel",
            "_view_count": null,
            "_view_module": "@jupyter-widgets/base",
            "_view_module_version": "1.2.0",
            "_view_name": "LayoutView",
            "align_content": null,
            "align_items": null,
            "align_self": null,
            "border": null,
            "bottom": null,
            "display": null,
            "flex": null,
            "flex_flow": null,
            "grid_area": null,
            "grid_auto_columns": null,
            "grid_auto_flow": null,
            "grid_auto_rows": null,
            "grid_column": null,
            "grid_gap": null,
            "grid_row": null,
            "grid_template_areas": null,
            "grid_template_columns": null,
            "grid_template_rows": null,
            "height": null,
            "justify_content": null,
            "justify_items": null,
            "left": null,
            "margin": null,
            "max_height": null,
            "max_width": null,
            "min_height": null,
            "min_width": null,
            "object_fit": null,
            "object_position": null,
            "order": null,
            "overflow": null,
            "overflow_x": null,
            "overflow_y": null,
            "padding": null,
            "right": null,
            "top": null,
            "visibility": null,
            "width": null
          }
        },
        "0795b244ebe14995a89694bbfdef0e38": {
          "model_module": "@jupyter-widgets/controls",
          "model_name": "VBoxModel",
          "model_module_version": "1.5.0",
          "state": {
            "_dom_classes": [],
            "_model_module": "@jupyter-widgets/controls",
            "_model_module_version": "1.5.0",
            "_model_name": "VBoxModel",
            "_view_count": null,
            "_view_module": "@jupyter-widgets/controls",
            "_view_module_version": "1.5.0",
            "_view_name": "VBoxView",
            "box_style": "",
            "children": [
              "IPY_MODEL_6ab0991687474a95a66c77840c6bb162",
              "IPY_MODEL_636a9583c9994695b9d74c494cb22d1c"
            ],
            "layout": "IPY_MODEL_3c168d423f6a442790e57880f77a662c"
          }
        },
        "6ab0991687474a95a66c77840c6bb162": {
          "model_module": "@jupyter-widgets/controls",
          "model_name": "DropdownModel",
          "model_module_version": "1.5.0",
          "state": {
            "_dom_classes": [],
            "_model_module": "@jupyter-widgets/controls",
            "_model_module_version": "1.5.0",
            "_model_name": "DropdownModel",
            "_options_labels": [
              "Apple",
              "Banana",
              "Cherry"
            ],
            "_view_count": null,
            "_view_module": "@jupyter-widgets/controls",
            "_view_module_version": "1.5.0",
            "_view_name": "DropdownView",
            "description": "Фрукт:",
            "description_tooltip": null,
            "disabled": false,
            "index": 0,
            "layout": "IPY_MODEL_ee9bdaff593c4d54800d7cc816de34f8",
            "style": "IPY_MODEL_67e8be12756b4dea91e9e21b7e6932c6"
          }
        },
        "636a9583c9994695b9d74c494cb22d1c": {
          "model_module": "@jupyter-widgets/controls",
          "model_name": "ButtonModel",
          "model_module_version": "1.5.0",
          "state": {
            "_dom_classes": [],
            "_model_module": "@jupyter-widgets/controls",
            "_model_module_version": "1.5.0",
            "_model_name": "ButtonModel",
            "_view_count": null,
            "_view_module": "@jupyter-widgets/controls",
            "_view_module_version": "1.5.0",
            "_view_name": "ButtonView",
            "button_style": "",
            "description": "Печать выбора",
            "disabled": false,
            "icon": "",
            "layout": "IPY_MODEL_7d120ccf20dd4e8a9e36df0df4b98506",
            "style": "IPY_MODEL_cbe76d26a97e4a94927f7950e2bc29e0",
            "tooltip": ""
          }
        },
        "3c168d423f6a442790e57880f77a662c": {
          "model_module": "@jupyter-widgets/base",
          "model_name": "LayoutModel",
          "model_module_version": "1.2.0",
          "state": {
            "_model_module": "@jupyter-widgets/base",
            "_model_module_version": "1.2.0",
            "_model_name": "LayoutModel",
            "_view_count": null,
            "_view_module": "@jupyter-widgets/base",
            "_view_module_version": "1.2.0",
            "_view_name": "LayoutView",
            "align_content": null,
            "align_items": null,
            "align_self": null,
            "border": null,
            "bottom": null,
            "display": null,
            "flex": null,
            "flex_flow": null,
            "grid_area": null,
            "grid_auto_columns": null,
            "grid_auto_flow": null,
            "grid_auto_rows": null,
            "grid_column": null,
            "grid_gap": null,
            "grid_row": null,
            "grid_template_areas": null,
            "grid_template_columns": null,
            "grid_template_rows": null,
            "height": null,
            "justify_content": null,
            "justify_items": null,
            "left": null,
            "margin": null,
            "max_height": null,
            "max_width": null,
            "min_height": null,
            "min_width": null,
            "object_fit": null,
            "object_position": null,
            "order": null,
            "overflow": null,
            "overflow_x": null,
            "overflow_y": null,
            "padding": null,
            "right": null,
            "top": null,
            "visibility": null,
            "width": null
          }
        },
        "ee9bdaff593c4d54800d7cc816de34f8": {
          "model_module": "@jupyter-widgets/base",
          "model_name": "LayoutModel",
          "model_module_version": "1.2.0",
          "state": {
            "_model_module": "@jupyter-widgets/base",
            "_model_module_version": "1.2.0",
            "_model_name": "LayoutModel",
            "_view_count": null,
            "_view_module": "@jupyter-widgets/base",
            "_view_module_version": "1.2.0",
            "_view_name": "LayoutView",
            "align_content": null,
            "align_items": null,
            "align_self": null,
            "border": null,
            "bottom": null,
            "display": null,
            "flex": null,
            "flex_flow": null,
            "grid_area": null,
            "grid_auto_columns": null,
            "grid_auto_flow": null,
            "grid_auto_rows": null,
            "grid_column": null,
            "grid_gap": null,
            "grid_row": null,
            "grid_template_areas": null,
            "grid_template_columns": null,
            "grid_template_rows": null,
            "height": null,
            "justify_content": null,
            "justify_items": null,
            "left": null,
            "margin": null,
            "max_height": null,
            "max_width": null,
            "min_height": null,
            "min_width": null,
            "object_fit": null,
            "object_position": null,
            "order": null,
            "overflow": null,
            "overflow_x": null,
            "overflow_y": null,
            "padding": null,
            "right": null,
            "top": null,
            "visibility": null,
            "width": null
          }
        },
        "67e8be12756b4dea91e9e21b7e6932c6": {
          "model_module": "@jupyter-widgets/controls",
          "model_name": "DescriptionStyleModel",
          "model_module_version": "1.5.0",
          "state": {
            "_model_module": "@jupyter-widgets/controls",
            "_model_module_version": "1.5.0",
            "_model_name": "DescriptionStyleModel",
            "_view_count": null,
            "_view_module": "@jupyter-widgets/base",
            "_view_module_version": "1.2.0",
            "_view_name": "StyleView",
            "description_width": ""
          }
        },
        "7d120ccf20dd4e8a9e36df0df4b98506": {
          "model_module": "@jupyter-widgets/base",
          "model_name": "LayoutModel",
          "model_module_version": "1.2.0",
          "state": {
            "_model_module": "@jupyter-widgets/base",
            "_model_module_version": "1.2.0",
            "_model_name": "LayoutModel",
            "_view_count": null,
            "_view_module": "@jupyter-widgets/base",
            "_view_module_version": "1.2.0",
            "_view_name": "LayoutView",
            "align_content": null,
            "align_items": null,
            "align_self": null,
            "border": null,
            "bottom": null,
            "display": null,
            "flex": null,
            "flex_flow": null,
            "grid_area": null,
            "grid_auto_columns": null,
            "grid_auto_flow": null,
            "grid_auto_rows": null,
            "grid_column": null,
            "grid_gap": null,
            "grid_row": null,
            "grid_template_areas": null,
            "grid_template_columns": null,
            "grid_template_rows": null,
            "height": null,
            "justify_content": null,
            "justify_items": null,
            "left": null,
            "margin": null,
            "max_height": null,
            "max_width": null,
            "min_height": null,
            "min_width": null,
            "object_fit": null,
            "object_position": null,
            "order": null,
            "overflow": null,
            "overflow_x": null,
            "overflow_y": null,
            "padding": null,
            "right": null,
            "top": null,
            "visibility": null,
            "width": null
          }
        },
        "cbe76d26a97e4a94927f7950e2bc29e0": {
          "model_module": "@jupyter-widgets/controls",
          "model_name": "ButtonStyleModel",
          "model_module_version": "1.5.0",
          "state": {
            "_model_module": "@jupyter-widgets/controls",
            "_model_module_version": "1.5.0",
            "_model_name": "ButtonStyleModel",
            "_view_count": null,
            "_view_module": "@jupyter-widgets/base",
            "_view_module_version": "1.2.0",
            "_view_name": "StyleView",
            "button_color": null,
            "font_weight": ""
          }
        },
        "9752054b6f0b4ae0bb58e12fac830f1a": {
          "model_module": "@jupyter-widgets/controls",
          "model_name": "ButtonModel",
          "model_module_version": "1.5.0",
          "state": {
            "_dom_classes": [],
            "_model_module": "@jupyter-widgets/controls",
            "_model_module_version": "1.5.0",
            "_model_name": "ButtonModel",
            "_view_count": null,
            "_view_module": "@jupyter-widgets/controls",
            "_view_module_version": "1.5.0",
            "_view_name": "ButtonView",
            "button_style": "",
            "description": "Нажми меня",
            "disabled": false,
            "icon": "",
            "layout": "IPY_MODEL_009205fdf3684be68090d7a211086e01",
            "style": "IPY_MODEL_bf3e8eb6ae724a6abce7382fc0fca828",
            "tooltip": ""
          }
        },
        "009205fdf3684be68090d7a211086e01": {
          "model_module": "@jupyter-widgets/base",
          "model_name": "LayoutModel",
          "model_module_version": "1.2.0",
          "state": {
            "_model_module": "@jupyter-widgets/base",
            "_model_module_version": "1.2.0",
            "_model_name": "LayoutModel",
            "_view_count": null,
            "_view_module": "@jupyter-widgets/base",
            "_view_module_version": "1.2.0",
            "_view_name": "LayoutView",
            "align_content": null,
            "align_items": null,
            "align_self": null,
            "border": null,
            "bottom": null,
            "display": null,
            "flex": null,
            "flex_flow": null,
            "grid_area": null,
            "grid_auto_columns": null,
            "grid_auto_flow": null,
            "grid_auto_rows": null,
            "grid_column": null,
            "grid_gap": null,
            "grid_row": null,
            "grid_template_areas": null,
            "grid_template_columns": null,
            "grid_template_rows": null,
            "height": null,
            "justify_content": null,
            "justify_items": null,
            "left": null,
            "margin": null,
            "max_height": null,
            "max_width": null,
            "min_height": null,
            "min_width": null,
            "object_fit": null,
            "object_position": null,
            "order": null,
            "overflow": null,
            "overflow_x": null,
            "overflow_y": null,
            "padding": null,
            "right": null,
            "top": null,
            "visibility": null,
            "width": null
          }
        },
        "bf3e8eb6ae724a6abce7382fc0fca828": {
          "model_module": "@jupyter-widgets/controls",
          "model_name": "ButtonStyleModel",
          "model_module_version": "1.5.0",
          "state": {
            "_model_module": "@jupyter-widgets/controls",
            "_model_module_version": "1.5.0",
            "_model_name": "ButtonStyleModel",
            "_view_count": null,
            "_view_module": "@jupyter-widgets/base",
            "_view_module_version": "1.2.0",
            "_view_name": "StyleView",
            "button_color": null,
            "font_weight": ""
          }
        },
        "589b20c66d134faab0bc42dd75b4393e": {
          "model_module": "@jupyter-widgets/controls",
          "model_name": "ButtonModel",
          "model_module_version": "1.5.0",
          "state": {
            "_dom_classes": [],
            "_model_module": "@jupyter-widgets/controls",
            "_model_module_version": "1.5.0",
            "_model_name": "ButtonModel",
            "_view_count": null,
            "_view_module": "@jupyter-widgets/controls",
            "_view_module_version": "1.5.0",
            "_view_name": "ButtonView",
            "button_style": "success",
            "description": "Сохранить",
            "disabled": false,
            "icon": "save",
            "layout": "IPY_MODEL_3f2ae1319830436a9a90361714ba300e",
            "style": "IPY_MODEL_af5e99319c59426fb3f72024cf0a4a2f",
            "tooltip": "Сохранить данные"
          }
        },
        "3f2ae1319830436a9a90361714ba300e": {
          "model_module": "@jupyter-widgets/base",
          "model_name": "LayoutModel",
          "model_module_version": "1.2.0",
          "state": {
            "_model_module": "@jupyter-widgets/base",
            "_model_module_version": "1.2.0",
            "_model_name": "LayoutModel",
            "_view_count": null,
            "_view_module": "@jupyter-widgets/base",
            "_view_module_version": "1.2.0",
            "_view_name": "LayoutView",
            "align_content": null,
            "align_items": null,
            "align_self": null,
            "border": null,
            "bottom": null,
            "display": null,
            "flex": null,
            "flex_flow": null,
            "grid_area": null,
            "grid_auto_columns": null,
            "grid_auto_flow": null,
            "grid_auto_rows": null,
            "grid_column": null,
            "grid_gap": null,
            "grid_row": null,
            "grid_template_areas": null,
            "grid_template_columns": null,
            "grid_template_rows": null,
            "height": null,
            "justify_content": null,
            "justify_items": null,
            "left": null,
            "margin": null,
            "max_height": null,
            "max_width": null,
            "min_height": null,
            "min_width": null,
            "object_fit": null,
            "object_position": null,
            "order": null,
            "overflow": null,
            "overflow_x": null,
            "overflow_y": null,
            "padding": null,
            "right": null,
            "top": null,
            "visibility": null,
            "width": null
          }
        },
        "af5e99319c59426fb3f72024cf0a4a2f": {
          "model_module": "@jupyter-widgets/controls",
          "model_name": "ButtonStyleModel",
          "model_module_version": "1.5.0",
          "state": {
            "_model_module": "@jupyter-widgets/controls",
            "_model_module_version": "1.5.0",
            "_model_name": "ButtonStyleModel",
            "_view_count": null,
            "_view_module": "@jupyter-widgets/base",
            "_view_module_version": "1.2.0",
            "_view_name": "StyleView",
            "button_color": null,
            "font_weight": ""
          }
        },
        "cd98587379754e32884555d565c1171f": {
          "model_module": "@jupyter-widgets/output",
          "model_name": "OutputModel",
          "model_module_version": "1.0.0",
          "state": {
            "_dom_classes": [],
            "_model_module": "@jupyter-widgets/output",
            "_model_module_version": "1.0.0",
            "_model_name": "OutputModel",
            "_view_count": null,
            "_view_module": "@jupyter-widgets/output",
            "_view_module_version": "1.0.0",
            "_view_name": "OutputView",
            "layout": "IPY_MODEL_d47c9e72babe4243a1199fac10933c0b",
            "msg_id": "",
            "outputs": [
              {
                "output_type": "stream",
                "name": "stdout",
                "text": [
                  "Привет из виджета Output!\n"
                ]
              }
            ]
          }
        },
        "d47c9e72babe4243a1199fac10933c0b": {
          "model_module": "@jupyter-widgets/base",
          "model_name": "LayoutModel",
          "model_module_version": "1.2.0",
          "state": {
            "_model_module": "@jupyter-widgets/base",
            "_model_module_version": "1.2.0",
            "_model_name": "LayoutModel",
            "_view_count": null,
            "_view_module": "@jupyter-widgets/base",
            "_view_module_version": "1.2.0",
            "_view_name": "LayoutView",
            "align_content": null,
            "align_items": null,
            "align_self": null,
            "border": null,
            "bottom": null,
            "display": null,
            "flex": null,
            "flex_flow": null,
            "grid_area": null,
            "grid_auto_columns": null,
            "grid_auto_flow": null,
            "grid_auto_rows": null,
            "grid_column": null,
            "grid_gap": null,
            "grid_row": null,
            "grid_template_areas": null,
            "grid_template_columns": null,
            "grid_template_rows": null,
            "height": null,
            "justify_content": null,
            "justify_items": null,
            "left": null,
            "margin": null,
            "max_height": null,
            "max_width": null,
            "min_height": null,
            "min_width": null,
            "object_fit": null,
            "object_position": null,
            "order": null,
            "overflow": null,
            "overflow_x": null,
            "overflow_y": null,
            "padding": null,
            "right": null,
            "top": null,
            "visibility": null,
            "width": null
          }
        },
        "271c79d65a164817b7dee87830036477": {
          "model_module": "@jupyter-widgets/controls",
          "model_name": "VBoxModel",
          "model_module_version": "1.5.0",
          "state": {
            "_dom_classes": [],
            "_model_module": "@jupyter-widgets/controls",
            "_model_module_version": "1.5.0",
            "_model_name": "VBoxModel",
            "_view_count": null,
            "_view_module": "@jupyter-widgets/controls",
            "_view_module_version": "1.5.0",
            "_view_name": "VBoxView",
            "box_style": "",
            "children": [
              "IPY_MODEL_e5e8171cbf96435aa0e3ec936737ff37",
              "IPY_MODEL_2c863f3b7b5845b093c711c072253cc4"
            ],
            "layout": "IPY_MODEL_88c069179eb8487e8d3721d77a371d91"
          }
        },
        "e5e8171cbf96435aa0e3ec936737ff37": {
          "model_module": "@jupyter-widgets/controls",
          "model_name": "ButtonModel",
          "model_module_version": "1.5.0",
          "state": {
            "_dom_classes": [],
            "_model_module": "@jupyter-widgets/controls",
            "_model_module_version": "1.5.0",
            "_model_name": "ButtonModel",
            "_view_count": null,
            "_view_module": "@jupyter-widgets/controls",
            "_view_module_version": "1.5.0",
            "_view_name": "ButtonView",
            "button_style": "",
            "description": "Показать",
            "disabled": false,
            "icon": "",
            "layout": "IPY_MODEL_891c75034b34405ba3385e46773e0c86",
            "style": "IPY_MODEL_eefe50d7385147a89c301a930fefeca7",
            "tooltip": ""
          }
        },
        "2c863f3b7b5845b093c711c072253cc4": {
          "model_module": "@jupyter-widgets/output",
          "model_name": "OutputModel",
          "model_module_version": "1.0.0",
          "state": {
            "_dom_classes": [],
            "_model_module": "@jupyter-widgets/output",
            "_model_module_version": "1.0.0",
            "_model_name": "OutputModel",
            "_view_count": null,
            "_view_module": "@jupyter-widgets/output",
            "_view_module_version": "1.0.0",
            "_view_name": "OutputView",
            "layout": "IPY_MODEL_2168534effb745fab76894a0cb40e325",
            "msg_id": "",
            "outputs": []
          }
        },
        "88c069179eb8487e8d3721d77a371d91": {
          "model_module": "@jupyter-widgets/base",
          "model_name": "LayoutModel",
          "model_module_version": "1.2.0",
          "state": {
            "_model_module": "@jupyter-widgets/base",
            "_model_module_version": "1.2.0",
            "_model_name": "LayoutModel",
            "_view_count": null,
            "_view_module": "@jupyter-widgets/base",
            "_view_module_version": "1.2.0",
            "_view_name": "LayoutView",
            "align_content": null,
            "align_items": null,
            "align_self": null,
            "border": null,
            "bottom": null,
            "display": null,
            "flex": null,
            "flex_flow": null,
            "grid_area": null,
            "grid_auto_columns": null,
            "grid_auto_flow": null,
            "grid_auto_rows": null,
            "grid_column": null,
            "grid_gap": null,
            "grid_row": null,
            "grid_template_areas": null,
            "grid_template_columns": null,
            "grid_template_rows": null,
            "height": null,
            "justify_content": null,
            "justify_items": null,
            "left": null,
            "margin": null,
            "max_height": null,
            "max_width": null,
            "min_height": null,
            "min_width": null,
            "object_fit": null,
            "object_position": null,
            "order": null,
            "overflow": null,
            "overflow_x": null,
            "overflow_y": null,
            "padding": null,
            "right": null,
            "top": null,
            "visibility": null,
            "width": null
          }
        },
        "891c75034b34405ba3385e46773e0c86": {
          "model_module": "@jupyter-widgets/base",
          "model_name": "LayoutModel",
          "model_module_version": "1.2.0",
          "state": {
            "_model_module": "@jupyter-widgets/base",
            "_model_module_version": "1.2.0",
            "_model_name": "LayoutModel",
            "_view_count": null,
            "_view_module": "@jupyter-widgets/base",
            "_view_module_version": "1.2.0",
            "_view_name": "LayoutView",
            "align_content": null,
            "align_items": null,
            "align_self": null,
            "border": null,
            "bottom": null,
            "display": null,
            "flex": null,
            "flex_flow": null,
            "grid_area": null,
            "grid_auto_columns": null,
            "grid_auto_flow": null,
            "grid_auto_rows": null,
            "grid_column": null,
            "grid_gap": null,
            "grid_row": null,
            "grid_template_areas": null,
            "grid_template_columns": null,
            "grid_template_rows": null,
            "height": null,
            "justify_content": null,
            "justify_items": null,
            "left": null,
            "margin": null,
            "max_height": null,
            "max_width": null,
            "min_height": null,
            "min_width": null,
            "object_fit": null,
            "object_position": null,
            "order": null,
            "overflow": null,
            "overflow_x": null,
            "overflow_y": null,
            "padding": null,
            "right": null,
            "top": null,
            "visibility": null,
            "width": null
          }
        },
        "eefe50d7385147a89c301a930fefeca7": {
          "model_module": "@jupyter-widgets/controls",
          "model_name": "ButtonStyleModel",
          "model_module_version": "1.5.0",
          "state": {
            "_model_module": "@jupyter-widgets/controls",
            "_model_module_version": "1.5.0",
            "_model_name": "ButtonStyleModel",
            "_view_count": null,
            "_view_module": "@jupyter-widgets/base",
            "_view_module_version": "1.2.0",
            "_view_name": "StyleView",
            "button_color": null,
            "font_weight": ""
          }
        },
        "2168534effb745fab76894a0cb40e325": {
          "model_module": "@jupyter-widgets/base",
          "model_name": "LayoutModel",
          "model_module_version": "1.2.0",
          "state": {
            "_model_module": "@jupyter-widgets/base",
            "_model_module_version": "1.2.0",
            "_model_name": "LayoutModel",
            "_view_count": null,
            "_view_module": "@jupyter-widgets/base",
            "_view_module_version": "1.2.0",
            "_view_name": "LayoutView",
            "align_content": null,
            "align_items": null,
            "align_self": null,
            "border": null,
            "bottom": null,
            "display": null,
            "flex": null,
            "flex_flow": null,
            "grid_area": null,
            "grid_auto_columns": null,
            "grid_auto_flow": null,
            "grid_auto_rows": null,
            "grid_column": null,
            "grid_gap": null,
            "grid_row": null,
            "grid_template_areas": null,
            "grid_template_columns": null,
            "grid_template_rows": null,
            "height": null,
            "justify_content": null,
            "justify_items": null,
            "left": null,
            "margin": null,
            "max_height": null,
            "max_width": null,
            "min_height": null,
            "min_width": null,
            "object_fit": null,
            "object_position": null,
            "order": null,
            "overflow": null,
            "overflow_x": null,
            "overflow_y": null,
            "padding": null,
            "right": null,
            "top": null,
            "visibility": null,
            "width": null
          }
        },
        "c2afcb4d11134d80ac7e8948390f1619": {
          "model_module": "@jupyter-widgets/controls",
          "model_name": "VBoxModel",
          "model_module_version": "1.5.0",
          "state": {
            "_dom_classes": [],
            "_model_module": "@jupyter-widgets/controls",
            "_model_module_version": "1.5.0",
            "_model_name": "VBoxModel",
            "_view_count": null,
            "_view_module": "@jupyter-widgets/controls",
            "_view_module_version": "1.5.0",
            "_view_name": "VBoxView",
            "box_style": "",
            "children": [
              "IPY_MODEL_29eadff41a2e4fbe970b61a01e8322a3",
              "IPY_MODEL_7d6dcaa503454e149da98708e8bdd7cb"
            ],
            "layout": "IPY_MODEL_857d9628b7da4399b8ea5e19762d17df"
          }
        },
        "29eadff41a2e4fbe970b61a01e8322a3": {
          "model_module": "@jupyter-widgets/controls",
          "model_name": "ButtonModel",
          "model_module_version": "1.5.0",
          "state": {
            "_dom_classes": [],
            "_model_module": "@jupyter-widgets/controls",
            "_model_module_version": "1.5.0",
            "_model_name": "ButtonModel",
            "_view_count": null,
            "_view_module": "@jupyter-widgets/controls",
            "_view_module_version": "1.5.0",
            "_view_name": "ButtonView",
            "button_style": "",
            "description": "Построить график",
            "disabled": false,
            "icon": "",
            "layout": "IPY_MODEL_7e5fd80c557f419587d9943f0a09ea0c",
            "style": "IPY_MODEL_b86ee468d9f64e1caac5c443c08e896f",
            "tooltip": ""
          }
        },
        "7d6dcaa503454e149da98708e8bdd7cb": {
          "model_module": "@jupyter-widgets/output",
          "model_name": "OutputModel",
          "model_module_version": "1.0.0",
          "state": {
            "_dom_classes": [],
            "_model_module": "@jupyter-widgets/output",
            "_model_module_version": "1.0.0",
            "_model_name": "OutputModel",
            "_view_count": null,
            "_view_module": "@jupyter-widgets/output",
            "_view_module_version": "1.0.0",
            "_view_name": "OutputView",
            "layout": "IPY_MODEL_1ed1ebc42ffb4cf1b94c8a04e100fd19",
            "msg_id": "",
            "outputs": [
              {
                "output_type": "display_data",
                "data": {
                  "text/plain": "<Figure size 640x480 with 1 Axes>",
                  "image/png": "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\n"
                },
                "metadata": {}
              }
            ]
          }
        },
        "857d9628b7da4399b8ea5e19762d17df": {
          "model_module": "@jupyter-widgets/base",
          "model_name": "LayoutModel",
          "model_module_version": "1.2.0",
          "state": {
            "_model_module": "@jupyter-widgets/base",
            "_model_module_version": "1.2.0",
            "_model_name": "LayoutModel",
            "_view_count": null,
            "_view_module": "@jupyter-widgets/base",
            "_view_module_version": "1.2.0",
            "_view_name": "LayoutView",
            "align_content": null,
            "align_items": null,
            "align_self": null,
            "border": null,
            "bottom": null,
            "display": null,
            "flex": null,
            "flex_flow": null,
            "grid_area": null,
            "grid_auto_columns": null,
            "grid_auto_flow": null,
            "grid_auto_rows": null,
            "grid_column": null,
            "grid_gap": null,
            "grid_row": null,
            "grid_template_areas": null,
            "grid_template_columns": null,
            "grid_template_rows": null,
            "height": null,
            "justify_content": null,
            "justify_items": null,
            "left": null,
            "margin": null,
            "max_height": null,
            "max_width": null,
            "min_height": null,
            "min_width": null,
            "object_fit": null,
            "object_position": null,
            "order": null,
            "overflow": null,
            "overflow_x": null,
            "overflow_y": null,
            "padding": null,
            "right": null,
            "top": null,
            "visibility": null,
            "width": null
          }
        },
        "7e5fd80c557f419587d9943f0a09ea0c": {
          "model_module": "@jupyter-widgets/base",
          "model_name": "LayoutModel",
          "model_module_version": "1.2.0",
          "state": {
            "_model_module": "@jupyter-widgets/base",
            "_model_module_version": "1.2.0",
            "_model_name": "LayoutModel",
            "_view_count": null,
            "_view_module": "@jupyter-widgets/base",
            "_view_module_version": "1.2.0",
            "_view_name": "LayoutView",
            "align_content": null,
            "align_items": null,
            "align_self": null,
            "border": null,
            "bottom": null,
            "display": null,
            "flex": null,
            "flex_flow": null,
            "grid_area": null,
            "grid_auto_columns": null,
            "grid_auto_flow": null,
            "grid_auto_rows": null,
            "grid_column": null,
            "grid_gap": null,
            "grid_row": null,
            "grid_template_areas": null,
            "grid_template_columns": null,
            "grid_template_rows": null,
            "height": null,
            "justify_content": null,
            "justify_items": null,
            "left": null,
            "margin": null,
            "max_height": null,
            "max_width": null,
            "min_height": null,
            "min_width": null,
            "object_fit": null,
            "object_position": null,
            "order": null,
            "overflow": null,
            "overflow_x": null,
            "overflow_y": null,
            "padding": null,
            "right": null,
            "top": null,
            "visibility": null,
            "width": null
          }
        },
        "b86ee468d9f64e1caac5c443c08e896f": {
          "model_module": "@jupyter-widgets/controls",
          "model_name": "ButtonStyleModel",
          "model_module_version": "1.5.0",
          "state": {
            "_model_module": "@jupyter-widgets/controls",
            "_model_module_version": "1.5.0",
            "_model_name": "ButtonStyleModel",
            "_view_count": null,
            "_view_module": "@jupyter-widgets/base",
            "_view_module_version": "1.2.0",
            "_view_name": "StyleView",
            "button_color": null,
            "font_weight": ""
          }
        },
        "1ed1ebc42ffb4cf1b94c8a04e100fd19": {
          "model_module": "@jupyter-widgets/base",
          "model_name": "LayoutModel",
          "model_module_version": "1.2.0",
          "state": {
            "_model_module": "@jupyter-widgets/base",
            "_model_module_version": "1.2.0",
            "_model_name": "LayoutModel",
            "_view_count": null,
            "_view_module": "@jupyter-widgets/base",
            "_view_module_version": "1.2.0",
            "_view_name": "LayoutView",
            "align_content": null,
            "align_items": null,
            "align_self": null,
            "border": null,
            "bottom": null,
            "display": null,
            "flex": null,
            "flex_flow": null,
            "grid_area": null,
            "grid_auto_columns": null,
            "grid_auto_flow": null,
            "grid_auto_rows": null,
            "grid_column": null,
            "grid_gap": null,
            "grid_row": null,
            "grid_template_areas": null,
            "grid_template_columns": null,
            "grid_template_rows": null,
            "height": null,
            "justify_content": null,
            "justify_items": null,
            "left": null,
            "margin": null,
            "max_height": null,
            "max_width": null,
            "min_height": null,
            "min_width": null,
            "object_fit": null,
            "object_position": null,
            "order": null,
            "overflow": null,
            "overflow_x": null,
            "overflow_y": null,
            "padding": null,
            "right": null,
            "top": null,
            "visibility": null,
            "width": null
          }
        },
        "46b3ef48053f470a9ad185eb59c1da88": {
          "model_module": "@jupyter-widgets/controls",
          "model_name": "VBoxModel",
          "model_module_version": "1.5.0",
          "state": {
            "_dom_classes": [],
            "_model_module": "@jupyter-widgets/controls",
            "_model_module_version": "1.5.0",
            "_model_name": "VBoxModel",
            "_view_count": null,
            "_view_module": "@jupyter-widgets/controls",
            "_view_module_version": "1.5.0",
            "_view_name": "VBoxView",
            "box_style": "",
            "children": [
              "IPY_MODEL_8aab230b466b40fdad0ab44044e88c1d",
              "IPY_MODEL_063d64f9ac2e497ba7f69185d52b6506"
            ],
            "layout": "IPY_MODEL_c46ca7396aaf448589fb63e6f3003bd0"
          }
        },
        "8aab230b466b40fdad0ab44044e88c1d": {
          "model_module": "@jupyter-widgets/controls",
          "model_name": "DropdownModel",
          "model_module_version": "1.5.0",
          "state": {
            "_dom_classes": [],
            "_model_module": "@jupyter-widgets/controls",
            "_model_module_version": "1.5.0",
            "_model_name": "DropdownModel",
            "_options_labels": [
              "marketing",
              "sales"
            ],
            "_view_count": null,
            "_view_module": "@jupyter-widgets/controls",
            "_view_module_version": "1.5.0",
            "_view_name": "DropdownView",
            "description": "Схема:",
            "description_tooltip": null,
            "disabled": false,
            "index": 0,
            "layout": "IPY_MODEL_2d5f964a0a184307809e859a1a4e9540",
            "style": "IPY_MODEL_5f9634e9749a4ec196dffe838cfff4b6"
          }
        },
        "063d64f9ac2e497ba7f69185d52b6506": {
          "model_module": "@jupyter-widgets/controls",
          "model_name": "DropdownModel",
          "model_module_version": "1.5.0",
          "state": {
            "_dom_classes": [],
            "_model_module": "@jupyter-widgets/controls",
            "_model_module_version": "1.5.0",
            "_model_name": "DropdownModel",
            "_options_labels": [
              "campaigns",
              "leads"
            ],
            "_view_count": null,
            "_view_module": "@jupyter-widgets/controls",
            "_view_module_version": "1.5.0",
            "_view_name": "DropdownView",
            "description": "Таблица:",
            "description_tooltip": null,
            "disabled": false,
            "index": 0,
            "layout": "IPY_MODEL_7ddce0913aec4084b73a1da8c51a2362",
            "style": "IPY_MODEL_742c4e997ad949bcb715dfcded1c359a"
          }
        },
        "c46ca7396aaf448589fb63e6f3003bd0": {
          "model_module": "@jupyter-widgets/base",
          "model_name": "LayoutModel",
          "model_module_version": "1.2.0",
          "state": {
            "_model_module": "@jupyter-widgets/base",
            "_model_module_version": "1.2.0",
            "_model_name": "LayoutModel",
            "_view_count": null,
            "_view_module": "@jupyter-widgets/base",
            "_view_module_version": "1.2.0",
            "_view_name": "LayoutView",
            "align_content": null,
            "align_items": null,
            "align_self": null,
            "border": null,
            "bottom": null,
            "display": null,
            "flex": null,
            "flex_flow": null,
            "grid_area": null,
            "grid_auto_columns": null,
            "grid_auto_flow": null,
            "grid_auto_rows": null,
            "grid_column": null,
            "grid_gap": null,
            "grid_row": null,
            "grid_template_areas": null,
            "grid_template_columns": null,
            "grid_template_rows": null,
            "height": null,
            "justify_content": null,
            "justify_items": null,
            "left": null,
            "margin": null,
            "max_height": null,
            "max_width": null,
            "min_height": null,
            "min_width": null,
            "object_fit": null,
            "object_position": null,
            "order": null,
            "overflow": null,
            "overflow_x": null,
            "overflow_y": null,
            "padding": null,
            "right": null,
            "top": null,
            "visibility": null,
            "width": null
          }
        },
        "2d5f964a0a184307809e859a1a4e9540": {
          "model_module": "@jupyter-widgets/base",
          "model_name": "LayoutModel",
          "model_module_version": "1.2.0",
          "state": {
            "_model_module": "@jupyter-widgets/base",
            "_model_module_version": "1.2.0",
            "_model_name": "LayoutModel",
            "_view_count": null,
            "_view_module": "@jupyter-widgets/base",
            "_view_module_version": "1.2.0",
            "_view_name": "LayoutView",
            "align_content": null,
            "align_items": null,
            "align_self": null,
            "border": null,
            "bottom": null,
            "display": null,
            "flex": null,
            "flex_flow": null,
            "grid_area": null,
            "grid_auto_columns": null,
            "grid_auto_flow": null,
            "grid_auto_rows": null,
            "grid_column": null,
            "grid_gap": null,
            "grid_row": null,
            "grid_template_areas": null,
            "grid_template_columns": null,
            "grid_template_rows": null,
            "height": null,
            "justify_content": null,
            "justify_items": null,
            "left": null,
            "margin": null,
            "max_height": null,
            "max_width": null,
            "min_height": null,
            "min_width": null,
            "object_fit": null,
            "object_position": null,
            "order": null,
            "overflow": null,
            "overflow_x": null,
            "overflow_y": null,
            "padding": null,
            "right": null,
            "top": null,
            "visibility": null,
            "width": null
          }
        },
        "5f9634e9749a4ec196dffe838cfff4b6": {
          "model_module": "@jupyter-widgets/controls",
          "model_name": "DescriptionStyleModel",
          "model_module_version": "1.5.0",
          "state": {
            "_model_module": "@jupyter-widgets/controls",
            "_model_module_version": "1.5.0",
            "_model_name": "DescriptionStyleModel",
            "_view_count": null,
            "_view_module": "@jupyter-widgets/base",
            "_view_module_version": "1.2.0",
            "_view_name": "StyleView",
            "description_width": ""
          }
        },
        "7ddce0913aec4084b73a1da8c51a2362": {
          "model_module": "@jupyter-widgets/base",
          "model_name": "LayoutModel",
          "model_module_version": "1.2.0",
          "state": {
            "_model_module": "@jupyter-widgets/base",
            "_model_module_version": "1.2.0",
            "_model_name": "LayoutModel",
            "_view_count": null,
            "_view_module": "@jupyter-widgets/base",
            "_view_module_version": "1.2.0",
            "_view_name": "LayoutView",
            "align_content": null,
            "align_items": null,
            "align_self": null,
            "border": null,
            "bottom": null,
            "display": null,
            "flex": null,
            "flex_flow": null,
            "grid_area": null,
            "grid_auto_columns": null,
            "grid_auto_flow": null,
            "grid_auto_rows": null,
            "grid_column": null,
            "grid_gap": null,
            "grid_row": null,
            "grid_template_areas": null,
            "grid_template_columns": null,
            "grid_template_rows": null,
            "height": null,
            "justify_content": null,
            "justify_items": null,
            "left": null,
            "margin": null,
            "max_height": null,
            "max_width": null,
            "min_height": null,
            "min_width": null,
            "object_fit": null,
            "object_position": null,
            "order": null,
            "overflow": null,
            "overflow_x": null,
            "overflow_y": null,
            "padding": null,
            "right": null,
            "top": null,
            "visibility": null,
            "width": null
          }
        },
        "742c4e997ad949bcb715dfcded1c359a": {
          "model_module": "@jupyter-widgets/controls",
          "model_name": "DescriptionStyleModel",
          "model_module_version": "1.5.0",
          "state": {
            "_model_module": "@jupyter-widgets/controls",
            "_model_module_version": "1.5.0",
            "_model_name": "DescriptionStyleModel",
            "_view_count": null,
            "_view_module": "@jupyter-widgets/base",
            "_view_module_version": "1.2.0",
            "_view_name": "StyleView",
            "description_width": ""
          }
        },
        "a61378bf30a648f2a91e78fd36a9336b": {
          "model_module": "@jupyter-widgets/controls",
          "model_name": "VBoxModel",
          "model_module_version": "1.5.0",
          "state": {
            "_dom_classes": [],
            "_model_module": "@jupyter-widgets/controls",
            "_model_module_version": "1.5.0",
            "_model_name": "VBoxModel",
            "_view_count": null,
            "_view_module": "@jupyter-widgets/controls",
            "_view_module_version": "1.5.0",
            "_view_name": "VBoxView",
            "box_style": "",
            "children": [
              "IPY_MODEL_f043686d9d0a424ca942d6e5ff801cfb",
              "IPY_MODEL_df2f58c1e8204c24851ffe30fe6b773c",
              "IPY_MODEL_de721ad6eed44af6acbee6d39454ac4e",
              "IPY_MODEL_f199c62909b24e05a961a8fb33cfed59"
            ],
            "layout": "IPY_MODEL_56acdbb8836a4d3093d2ae8a5a9b6d00"
          }
        },
        "f043686d9d0a424ca942d6e5ff801cfb": {
          "model_module": "@jupyter-widgets/controls",
          "model_name": "DropdownModel",
          "model_module_version": "1.5.0",
          "state": {
            "_dom_classes": [],
            "_model_module": "@jupyter-widgets/controls",
            "_model_module_version": "1.5.0",
            "_model_name": "DropdownModel",
            "_options_labels": [
              "marketing",
              "sales"
            ],
            "_view_count": null,
            "_view_module": "@jupyter-widgets/controls",
            "_view_module_version": "1.5.0",
            "_view_name": "DropdownView",
            "description": "Схема:",
            "description_tooltip": null,
            "disabled": false,
            "index": 0,
            "layout": "IPY_MODEL_ec390ee4e043493c9ba9844357e1ba88",
            "style": "IPY_MODEL_1d4fda34ccbc44c290d6be557471359a"
          }
        },
        "df2f58c1e8204c24851ffe30fe6b773c": {
          "model_module": "@jupyter-widgets/controls",
          "model_name": "DropdownModel",
          "model_module_version": "1.5.0",
          "state": {
            "_dom_classes": [],
            "_model_module": "@jupyter-widgets/controls",
            "_model_module_version": "1.5.0",
            "_model_name": "DropdownModel",
            "_options_labels": [
              "campaigns"
            ],
            "_view_count": null,
            "_view_module": "@jupyter-widgets/controls",
            "_view_module_version": "1.5.0",
            "_view_name": "DropdownView",
            "description": "Таблица:",
            "description_tooltip": null,
            "disabled": false,
            "index": 0,
            "layout": "IPY_MODEL_f10f280649be49ab86f15a01b39a2ec6",
            "style": "IPY_MODEL_97ea7092991b4efe8d8cab150b189e96"
          }
        },
        "de721ad6eed44af6acbee6d39454ac4e": {
          "model_module": "@jupyter-widgets/controls",
          "model_name": "ButtonModel",
          "model_module_version": "1.5.0",
          "state": {
            "_dom_classes": [],
            "_model_module": "@jupyter-widgets/controls",
            "_model_module_version": "1.5.0",
            "_model_name": "ButtonModel",
            "_view_count": null,
            "_view_module": "@jupyter-widgets/controls",
            "_view_module_version": "1.5.0",
            "_view_name": "ButtonView",
            "button_style": "info",
            "description": "Показать график",
            "disabled": false,
            "icon": "",
            "layout": "IPY_MODEL_c3fabbb31ce54ed4b39ef19bb5e8999f",
            "style": "IPY_MODEL_d4ff29adc682444c9972d5c987e37b63",
            "tooltip": ""
          }
        },
        "f199c62909b24e05a961a8fb33cfed59": {
          "model_module": "@jupyter-widgets/output",
          "model_name": "OutputModel",
          "model_module_version": "1.0.0",
          "state": {
            "_dom_classes": [],
            "_model_module": "@jupyter-widgets/output",
            "_model_module_version": "1.0.0",
            "_model_name": "OutputModel",
            "_view_count": null,
            "_view_module": "@jupyter-widgets/output",
            "_view_module_version": "1.0.0",
            "_view_name": "OutputView",
            "layout": "IPY_MODEL_060e2cf099c344d8bb13f54e7d67385a",
            "msg_id": "",
            "outputs": [
              {
                "output_type": "display_data",
                "data": {
                  "text/plain": "<Figure size 640x480 with 1 Axes>",
                  "image/png": "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\n"
                },
                "metadata": {}
              }
            ]
          }
        },
        "56acdbb8836a4d3093d2ae8a5a9b6d00": {
          "model_module": "@jupyter-widgets/base",
          "model_name": "LayoutModel",
          "model_module_version": "1.2.0",
          "state": {
            "_model_module": "@jupyter-widgets/base",
            "_model_module_version": "1.2.0",
            "_model_name": "LayoutModel",
            "_view_count": null,
            "_view_module": "@jupyter-widgets/base",
            "_view_module_version": "1.2.0",
            "_view_name": "LayoutView",
            "align_content": null,
            "align_items": null,
            "align_self": null,
            "border": null,
            "bottom": null,
            "display": null,
            "flex": null,
            "flex_flow": null,
            "grid_area": null,
            "grid_auto_columns": null,
            "grid_auto_flow": null,
            "grid_auto_rows": null,
            "grid_column": null,
            "grid_gap": null,
            "grid_row": null,
            "grid_template_areas": null,
            "grid_template_columns": null,
            "grid_template_rows": null,
            "height": null,
            "justify_content": null,
            "justify_items": null,
            "left": null,
            "margin": null,
            "max_height": null,
            "max_width": null,
            "min_height": null,
            "min_width": null,
            "object_fit": null,
            "object_position": null,
            "order": null,
            "overflow": null,
            "overflow_x": null,
            "overflow_y": null,
            "padding": null,
            "right": null,
            "top": null,
            "visibility": null,
            "width": null
          }
        },
        "ec390ee4e043493c9ba9844357e1ba88": {
          "model_module": "@jupyter-widgets/base",
          "model_name": "LayoutModel",
          "model_module_version": "1.2.0",
          "state": {
            "_model_module": "@jupyter-widgets/base",
            "_model_module_version": "1.2.0",
            "_model_name": "LayoutModel",
            "_view_count": null,
            "_view_module": "@jupyter-widgets/base",
            "_view_module_version": "1.2.0",
            "_view_name": "LayoutView",
            "align_content": null,
            "align_items": null,
            "align_self": null,
            "border": null,
            "bottom": null,
            "display": null,
            "flex": null,
            "flex_flow": null,
            "grid_area": null,
            "grid_auto_columns": null,
            "grid_auto_flow": null,
            "grid_auto_rows": null,
            "grid_column": null,
            "grid_gap": null,
            "grid_row": null,
            "grid_template_areas": null,
            "grid_template_columns": null,
            "grid_template_rows": null,
            "height": null,
            "justify_content": null,
            "justify_items": null,
            "left": null,
            "margin": null,
            "max_height": null,
            "max_width": null,
            "min_height": null,
            "min_width": null,
            "object_fit": null,
            "object_position": null,
            "order": null,
            "overflow": null,
            "overflow_x": null,
            "overflow_y": null,
            "padding": null,
            "right": null,
            "top": null,
            "visibility": null,
            "width": null
          }
        },
        "1d4fda34ccbc44c290d6be557471359a": {
          "model_module": "@jupyter-widgets/controls",
          "model_name": "DescriptionStyleModel",
          "model_module_version": "1.5.0",
          "state": {
            "_model_module": "@jupyter-widgets/controls",
            "_model_module_version": "1.5.0",
            "_model_name": "DescriptionStyleModel",
            "_view_count": null,
            "_view_module": "@jupyter-widgets/base",
            "_view_module_version": "1.2.0",
            "_view_name": "StyleView",
            "description_width": ""
          }
        },
        "f10f280649be49ab86f15a01b39a2ec6": {
          "model_module": "@jupyter-widgets/base",
          "model_name": "LayoutModel",
          "model_module_version": "1.2.0",
          "state": {
            "_model_module": "@jupyter-widgets/base",
            "_model_module_version": "1.2.0",
            "_model_name": "LayoutModel",
            "_view_count": null,
            "_view_module": "@jupyter-widgets/base",
            "_view_module_version": "1.2.0",
            "_view_name": "LayoutView",
            "align_content": null,
            "align_items": null,
            "align_self": null,
            "border": null,
            "bottom": null,
            "display": null,
            "flex": null,
            "flex_flow": null,
            "grid_area": null,
            "grid_auto_columns": null,
            "grid_auto_flow": null,
            "grid_auto_rows": null,
            "grid_column": null,
            "grid_gap": null,
            "grid_row": null,
            "grid_template_areas": null,
            "grid_template_columns": null,
            "grid_template_rows": null,
            "height": null,
            "justify_content": null,
            "justify_items": null,
            "left": null,
            "margin": null,
            "max_height": null,
            "max_width": null,
            "min_height": null,
            "min_width": null,
            "object_fit": null,
            "object_position": null,
            "order": null,
            "overflow": null,
            "overflow_x": null,
            "overflow_y": null,
            "padding": null,
            "right": null,
            "top": null,
            "visibility": null,
            "width": null
          }
        },
        "97ea7092991b4efe8d8cab150b189e96": {
          "model_module": "@jupyter-widgets/controls",
          "model_name": "DescriptionStyleModel",
          "model_module_version": "1.5.0",
          "state": {
            "_model_module": "@jupyter-widgets/controls",
            "_model_module_version": "1.5.0",
            "_model_name": "DescriptionStyleModel",
            "_view_count": null,
            "_view_module": "@jupyter-widgets/base",
            "_view_module_version": "1.2.0",
            "_view_name": "StyleView",
            "description_width": ""
          }
        },
        "c3fabbb31ce54ed4b39ef19bb5e8999f": {
          "model_module": "@jupyter-widgets/base",
          "model_name": "LayoutModel",
          "model_module_version": "1.2.0",
          "state": {
            "_model_module": "@jupyter-widgets/base",
            "_model_module_version": "1.2.0",
            "_model_name": "LayoutModel",
            "_view_count": null,
            "_view_module": "@jupyter-widgets/base",
            "_view_module_version": "1.2.0",
            "_view_name": "LayoutView",
            "align_content": null,
            "align_items": null,
            "align_self": null,
            "border": null,
            "bottom": null,
            "display": null,
            "flex": null,
            "flex_flow": null,
            "grid_area": null,
            "grid_auto_columns": null,
            "grid_auto_flow": null,
            "grid_auto_rows": null,
            "grid_column": null,
            "grid_gap": null,
            "grid_row": null,
            "grid_template_areas": null,
            "grid_template_columns": null,
            "grid_template_rows": null,
            "height": null,
            "justify_content": null,
            "justify_items": null,
            "left": null,
            "margin": null,
            "max_height": null,
            "max_width": null,
            "min_height": null,
            "min_width": null,
            "object_fit": null,
            "object_position": null,
            "order": null,
            "overflow": null,
            "overflow_x": null,
            "overflow_y": null,
            "padding": null,
            "right": null,
            "top": null,
            "visibility": null,
            "width": null
          }
        },
        "d4ff29adc682444c9972d5c987e37b63": {
          "model_module": "@jupyter-widgets/controls",
          "model_name": "ButtonStyleModel",
          "model_module_version": "1.5.0",
          "state": {
            "_model_module": "@jupyter-widgets/controls",
            "_model_module_version": "1.5.0",
            "_model_name": "ButtonStyleModel",
            "_view_count": null,
            "_view_module": "@jupyter-widgets/base",
            "_view_module_version": "1.2.0",
            "_view_name": "StyleView",
            "button_color": null,
            "font_weight": ""
          }
        },
        "060e2cf099c344d8bb13f54e7d67385a": {
          "model_module": "@jupyter-widgets/base",
          "model_name": "LayoutModel",
          "model_module_version": "1.2.0",
          "state": {
            "_model_module": "@jupyter-widgets/base",
            "_model_module_version": "1.2.0",
            "_model_name": "LayoutModel",
            "_view_count": null,
            "_view_module": "@jupyter-widgets/base",
            "_view_module_version": "1.2.0",
            "_view_name": "LayoutView",
            "align_content": null,
            "align_items": null,
            "align_self": null,
            "border": null,
            "bottom": null,
            "display": null,
            "flex": null,
            "flex_flow": null,
            "grid_area": null,
            "grid_auto_columns": null,
            "grid_auto_flow": null,
            "grid_auto_rows": null,
            "grid_column": null,
            "grid_gap": null,
            "grid_row": null,
            "grid_template_areas": null,
            "grid_template_columns": null,
            "grid_template_rows": null,
            "height": null,
            "justify_content": null,
            "justify_items": null,
            "left": null,
            "margin": null,
            "max_height": null,
            "max_width": null,
            "min_height": null,
            "min_width": null,
            "object_fit": null,
            "object_position": null,
            "order": null,
            "overflow": null,
            "overflow_x": null,
            "overflow_y": null,
            "padding": null,
            "right": null,
            "top": null,
            "visibility": null,
            "width": null
          }
        },
        "25b9c51d91034af183f06844f1c06f3f": {
          "model_module": "@jupyter-widgets/controls",
          "model_name": "VBoxModel",
          "model_module_version": "1.5.0",
          "state": {
            "_dom_classes": [],
            "_model_module": "@jupyter-widgets/controls",
            "_model_module_version": "1.5.0",
            "_model_name": "VBoxModel",
            "_view_count": null,
            "_view_module": "@jupyter-widgets/controls",
            "_view_module_version": "1.5.0",
            "_view_name": "VBoxView",
            "box_style": "",
            "children": [
              "IPY_MODEL_d1f0682fd237474a908260532830a3c3",
              "IPY_MODEL_1f9a0c27792748f581a4ed9578e0a7ca",
              "IPY_MODEL_5dbbb054bd7242d2b731e8238a69a9c3",
              "IPY_MODEL_e99298c2a76f4a5cba6807d236597485"
            ],
            "layout": "IPY_MODEL_946081279d024795bcbee3364257af28"
          }
        },
        "d1f0682fd237474a908260532830a3c3": {
          "model_module": "@jupyter-widgets/controls",
          "model_name": "HBoxModel",
          "model_module_version": "1.5.0",
          "state": {
            "_dom_classes": [],
            "_model_module": "@jupyter-widgets/controls",
            "_model_module_version": "1.5.0",
            "_model_name": "HBoxModel",
            "_view_count": null,
            "_view_module": "@jupyter-widgets/controls",
            "_view_module_version": "1.5.0",
            "_view_name": "HBoxView",
            "box_style": "",
            "children": [
              "IPY_MODEL_174adc4bcd0448c99eea67530d61920b",
              "IPY_MODEL_22924f741b4149d5a113f4274bc258b9"
            ],
            "layout": "IPY_MODEL_aafe804c96d449a6bdf85d7a3dd48c00"
          }
        },
        "1f9a0c27792748f581a4ed9578e0a7ca": {
          "model_module": "@jupyter-widgets/controls",
          "model_name": "HBoxModel",
          "model_module_version": "1.5.0",
          "state": {
            "_dom_classes": [],
            "_model_module": "@jupyter-widgets/controls",
            "_model_module_version": "1.5.0",
            "_model_name": "HBoxModel",
            "_view_count": null,
            "_view_module": "@jupyter-widgets/controls",
            "_view_module_version": "1.5.0",
            "_view_name": "HBoxView",
            "box_style": "",
            "children": [
              "IPY_MODEL_4645c5397ff24745858537569846a3ae",
              "IPY_MODEL_3232f5160cc84d7cae2c08e355284a3a"
            ],
            "layout": "IPY_MODEL_b4864f8087d045539a1634b4e4014132"
          }
        },
        "5dbbb054bd7242d2b731e8238a69a9c3": {
          "model_module": "@jupyter-widgets/output",
          "model_name": "OutputModel",
          "model_module_version": "1.0.0",
          "state": {
            "_dom_classes": [],
            "_model_module": "@jupyter-widgets/output",
            "_model_module_version": "1.0.0",
            "_model_name": "OutputModel",
            "_view_count": null,
            "_view_module": "@jupyter-widgets/output",
            "_view_module_version": "1.0.0",
            "_view_name": "OutputView",
            "layout": "IPY_MODEL_9de88ff980fe4341ad9d1be091c82d4c",
            "msg_id": "",
            "outputs": [
              {
                "output_type": "display_data",
                "data": {
                  "text/plain": "<Figure size 640x480 with 1 Axes>",
                  "image/png": "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\n"
                },
                "metadata": {}
              }
            ]
          }
        },
        "e99298c2a76f4a5cba6807d236597485": {
          "model_module": "@jupyter-widgets/output",
          "model_name": "OutputModel",
          "model_module_version": "1.0.0",
          "state": {
            "_dom_classes": [],
            "_model_module": "@jupyter-widgets/output",
            "_model_module_version": "1.0.0",
            "_model_name": "OutputModel",
            "_view_count": null,
            "_view_module": "@jupyter-widgets/output",
            "_view_module_version": "1.0.0",
            "_view_name": "OutputView",
            "layout": "IPY_MODEL_9e909fcbb7a14d27b6f25068d87920df",
            "msg_id": "",
            "outputs": []
          }
        },
        "946081279d024795bcbee3364257af28": {
          "model_module": "@jupyter-widgets/base",
          "model_name": "LayoutModel",
          "model_module_version": "1.2.0",
          "state": {
            "_model_module": "@jupyter-widgets/base",
            "_model_module_version": "1.2.0",
            "_model_name": "LayoutModel",
            "_view_count": null,
            "_view_module": "@jupyter-widgets/base",
            "_view_module_version": "1.2.0",
            "_view_name": "LayoutView",
            "align_content": null,
            "align_items": null,
            "align_self": null,
            "border": null,
            "bottom": null,
            "display": null,
            "flex": null,
            "flex_flow": null,
            "grid_area": null,
            "grid_auto_columns": null,
            "grid_auto_flow": null,
            "grid_auto_rows": null,
            "grid_column": null,
            "grid_gap": null,
            "grid_row": null,
            "grid_template_areas": null,
            "grid_template_columns": null,
            "grid_template_rows": null,
            "height": null,
            "justify_content": null,
            "justify_items": null,
            "left": null,
            "margin": null,
            "max_height": null,
            "max_width": null,
            "min_height": null,
            "min_width": null,
            "object_fit": null,
            "object_position": null,
            "order": null,
            "overflow": null,
            "overflow_x": null,
            "overflow_y": null,
            "padding": null,
            "right": null,
            "top": null,
            "visibility": null,
            "width": null
          }
        },
        "174adc4bcd0448c99eea67530d61920b": {
          "model_module": "@jupyter-widgets/controls",
          "model_name": "DropdownModel",
          "model_module_version": "1.5.0",
          "state": {
            "_dom_classes": [],
            "_model_module": "@jupyter-widgets/controls",
            "_model_module_version": "1.5.0",
            "_model_name": "DropdownModel",
            "_options_labels": [
              "marketing",
              "sales"
            ],
            "_view_count": null,
            "_view_module": "@jupyter-widgets/controls",
            "_view_module_version": "1.5.0",
            "_view_name": "DropdownView",
            "description": "Схема:",
            "description_tooltip": null,
            "disabled": false,
            "index": 0,
            "layout": "IPY_MODEL_ca96f2eb2a7247b1832783b0694c102a",
            "style": "IPY_MODEL_e25fa2afc5a04d01945af2e66effa877"
          }
        },
        "22924f741b4149d5a113f4274bc258b9": {
          "model_module": "@jupyter-widgets/controls",
          "model_name": "DropdownModel",
          "model_module_version": "1.5.0",
          "state": {
            "_dom_classes": [],
            "_model_module": "@jupyter-widgets/controls",
            "_model_module_version": "1.5.0",
            "_model_name": "DropdownModel",
            "_options_labels": [
              "campaigns",
              "leads"
            ],
            "_view_count": null,
            "_view_module": "@jupyter-widgets/controls",
            "_view_module_version": "1.5.0",
            "_view_name": "DropdownView",
            "description": "Таблица:",
            "description_tooltip": null,
            "disabled": false,
            "index": 0,
            "layout": "IPY_MODEL_8d72174cf0834b048c5e2766625d503e",
            "style": "IPY_MODEL_d2583761e8da475482218343d3fd37da"
          }
        },
        "aafe804c96d449a6bdf85d7a3dd48c00": {
          "model_module": "@jupyter-widgets/base",
          "model_name": "LayoutModel",
          "model_module_version": "1.2.0",
          "state": {
            "_model_module": "@jupyter-widgets/base",
            "_model_module_version": "1.2.0",
            "_model_name": "LayoutModel",
            "_view_count": null,
            "_view_module": "@jupyter-widgets/base",
            "_view_module_version": "1.2.0",
            "_view_name": "LayoutView",
            "align_content": null,
            "align_items": null,
            "align_self": null,
            "border": null,
            "bottom": null,
            "display": null,
            "flex": null,
            "flex_flow": null,
            "grid_area": null,
            "grid_auto_columns": null,
            "grid_auto_flow": null,
            "grid_auto_rows": null,
            "grid_column": null,
            "grid_gap": null,
            "grid_row": null,
            "grid_template_areas": null,
            "grid_template_columns": null,
            "grid_template_rows": null,
            "height": null,
            "justify_content": null,
            "justify_items": null,
            "left": null,
            "margin": null,
            "max_height": null,
            "max_width": null,
            "min_height": null,
            "min_width": null,
            "object_fit": null,
            "object_position": null,
            "order": null,
            "overflow": null,
            "overflow_x": null,
            "overflow_y": null,
            "padding": null,
            "right": null,
            "top": null,
            "visibility": null,
            "width": null
          }
        },
        "4645c5397ff24745858537569846a3ae": {
          "model_module": "@jupyter-widgets/controls",
          "model_name": "ButtonModel",
          "model_module_version": "1.5.0",
          "state": {
            "_dom_classes": [],
            "_model_module": "@jupyter-widgets/controls",
            "_model_module_version": "1.5.0",
            "_model_name": "ButtonModel",
            "_view_count": null,
            "_view_module": "@jupyter-widgets/controls",
            "_view_module_version": "1.5.0",
            "_view_name": "ButtonView",
            "button_style": "info",
            "description": "Обновить график",
            "disabled": false,
            "icon": "",
            "layout": "IPY_MODEL_2461e1a7c1da461f87da681664e58153",
            "style": "IPY_MODEL_aea3427b80204a30ace71b69ec905585",
            "tooltip": ""
          }
        },
        "3232f5160cc84d7cae2c08e355284a3a": {
          "model_module": "@jupyter-widgets/controls",
          "model_name": "ButtonModel",
          "model_module_version": "1.5.0",
          "state": {
            "_dom_classes": [],
            "_model_module": "@jupyter-widgets/controls",
            "_model_module_version": "1.5.0",
            "_model_name": "ButtonModel",
            "_view_count": null,
            "_view_module": "@jupyter-widgets/controls",
            "_view_module_version": "1.5.0",
            "_view_name": "ButtonView",
            "button_style": "success",
            "description": "Скачать Excel",
            "disabled": false,
            "icon": "",
            "layout": "IPY_MODEL_0f6a94159441410d97e7a243dc916ba8",
            "style": "IPY_MODEL_716e03f4231b408385ac3a0f414a36b1",
            "tooltip": ""
          }
        },
        "b4864f8087d045539a1634b4e4014132": {
          "model_module": "@jupyter-widgets/base",
          "model_name": "LayoutModel",
          "model_module_version": "1.2.0",
          "state": {
            "_model_module": "@jupyter-widgets/base",
            "_model_module_version": "1.2.0",
            "_model_name": "LayoutModel",
            "_view_count": null,
            "_view_module": "@jupyter-widgets/base",
            "_view_module_version": "1.2.0",
            "_view_name": "LayoutView",
            "align_content": null,
            "align_items": null,
            "align_self": null,
            "border": null,
            "bottom": null,
            "display": null,
            "flex": null,
            "flex_flow": null,
            "grid_area": null,
            "grid_auto_columns": null,
            "grid_auto_flow": null,
            "grid_auto_rows": null,
            "grid_column": null,
            "grid_gap": null,
            "grid_row": null,
            "grid_template_areas": null,
            "grid_template_columns": null,
            "grid_template_rows": null,
            "height": null,
            "justify_content": null,
            "justify_items": null,
            "left": null,
            "margin": null,
            "max_height": null,
            "max_width": null,
            "min_height": null,
            "min_width": null,
            "object_fit": null,
            "object_position": null,
            "order": null,
            "overflow": null,
            "overflow_x": null,
            "overflow_y": null,
            "padding": null,
            "right": null,
            "top": null,
            "visibility": null,
            "width": null
          }
        },
        "ca96f2eb2a7247b1832783b0694c102a": {
          "model_module": "@jupyter-widgets/base",
          "model_name": "LayoutModel",
          "model_module_version": "1.2.0",
          "state": {
            "_model_module": "@jupyter-widgets/base",
            "_model_module_version": "1.2.0",
            "_model_name": "LayoutModel",
            "_view_count": null,
            "_view_module": "@jupyter-widgets/base",
            "_view_module_version": "1.2.0",
            "_view_name": "LayoutView",
            "align_content": null,
            "align_items": null,
            "align_self": null,
            "border": null,
            "bottom": null,
            "display": null,
            "flex": null,
            "flex_flow": null,
            "grid_area": null,
            "grid_auto_columns": null,
            "grid_auto_flow": null,
            "grid_auto_rows": null,
            "grid_column": null,
            "grid_gap": null,
            "grid_row": null,
            "grid_template_areas": null,
            "grid_template_columns": null,
            "grid_template_rows": null,
            "height": null,
            "justify_content": null,
            "justify_items": null,
            "left": null,
            "margin": null,
            "max_height": null,
            "max_width": null,
            "min_height": null,
            "min_width": null,
            "object_fit": null,
            "object_position": null,
            "order": null,
            "overflow": null,
            "overflow_x": null,
            "overflow_y": null,
            "padding": null,
            "right": null,
            "top": null,
            "visibility": null,
            "width": null
          }
        },
        "e25fa2afc5a04d01945af2e66effa877": {
          "model_module": "@jupyter-widgets/controls",
          "model_name": "DescriptionStyleModel",
          "model_module_version": "1.5.0",
          "state": {
            "_model_module": "@jupyter-widgets/controls",
            "_model_module_version": "1.5.0",
            "_model_name": "DescriptionStyleModel",
            "_view_count": null,
            "_view_module": "@jupyter-widgets/base",
            "_view_module_version": "1.2.0",
            "_view_name": "StyleView",
            "description_width": ""
          }
        },
        "8d72174cf0834b048c5e2766625d503e": {
          "model_module": "@jupyter-widgets/base",
          "model_name": "LayoutModel",
          "model_module_version": "1.2.0",
          "state": {
            "_model_module": "@jupyter-widgets/base",
            "_model_module_version": "1.2.0",
            "_model_name": "LayoutModel",
            "_view_count": null,
            "_view_module": "@jupyter-widgets/base",
            "_view_module_version": "1.2.0",
            "_view_name": "LayoutView",
            "align_content": null,
            "align_items": null,
            "align_self": null,
            "border": null,
            "bottom": null,
            "display": null,
            "flex": null,
            "flex_flow": null,
            "grid_area": null,
            "grid_auto_columns": null,
            "grid_auto_flow": null,
            "grid_auto_rows": null,
            "grid_column": null,
            "grid_gap": null,
            "grid_row": null,
            "grid_template_areas": null,
            "grid_template_columns": null,
            "grid_template_rows": null,
            "height": null,
            "justify_content": null,
            "justify_items": null,
            "left": null,
            "margin": null,
            "max_height": null,
            "max_width": null,
            "min_height": null,
            "min_width": null,
            "object_fit": null,
            "object_position": null,
            "order": null,
            "overflow": null,
            "overflow_x": null,
            "overflow_y": null,
            "padding": null,
            "right": null,
            "top": null,
            "visibility": null,
            "width": null
          }
        },
        "d2583761e8da475482218343d3fd37da": {
          "model_module": "@jupyter-widgets/controls",
          "model_name": "DescriptionStyleModel",
          "model_module_version": "1.5.0",
          "state": {
            "_model_module": "@jupyter-widgets/controls",
            "_model_module_version": "1.5.0",
            "_model_name": "DescriptionStyleModel",
            "_view_count": null,
            "_view_module": "@jupyter-widgets/base",
            "_view_module_version": "1.2.0",
            "_view_name": "StyleView",
            "description_width": ""
          }
        },
        "2461e1a7c1da461f87da681664e58153": {
          "model_module": "@jupyter-widgets/base",
          "model_name": "LayoutModel",
          "model_module_version": "1.2.0",
          "state": {
            "_model_module": "@jupyter-widgets/base",
            "_model_module_version": "1.2.0",
            "_model_name": "LayoutModel",
            "_view_count": null,
            "_view_module": "@jupyter-widgets/base",
            "_view_module_version": "1.2.0",
            "_view_name": "LayoutView",
            "align_content": null,
            "align_items": null,
            "align_self": null,
            "border": null,
            "bottom": null,
            "display": null,
            "flex": null,
            "flex_flow": null,
            "grid_area": null,
            "grid_auto_columns": null,
            "grid_auto_flow": null,
            "grid_auto_rows": null,
            "grid_column": null,
            "grid_gap": null,
            "grid_row": null,
            "grid_template_areas": null,
            "grid_template_columns": null,
            "grid_template_rows": null,
            "height": null,
            "justify_content": null,
            "justify_items": null,
            "left": null,
            "margin": null,
            "max_height": null,
            "max_width": null,
            "min_height": null,
            "min_width": null,
            "object_fit": null,
            "object_position": null,
            "order": null,
            "overflow": null,
            "overflow_x": null,
            "overflow_y": null,
            "padding": null,
            "right": null,
            "top": null,
            "visibility": null,
            "width": null
          }
        },
        "aea3427b80204a30ace71b69ec905585": {
          "model_module": "@jupyter-widgets/controls",
          "model_name": "ButtonStyleModel",
          "model_module_version": "1.5.0",
          "state": {
            "_model_module": "@jupyter-widgets/controls",
            "_model_module_version": "1.5.0",
            "_model_name": "ButtonStyleModel",
            "_view_count": null,
            "_view_module": "@jupyter-widgets/base",
            "_view_module_version": "1.2.0",
            "_view_name": "StyleView",
            "button_color": null,
            "font_weight": ""
          }
        },
        "0f6a94159441410d97e7a243dc916ba8": {
          "model_module": "@jupyter-widgets/base",
          "model_name": "LayoutModel",
          "model_module_version": "1.2.0",
          "state": {
            "_model_module": "@jupyter-widgets/base",
            "_model_module_version": "1.2.0",
            "_model_name": "LayoutModel",
            "_view_count": null,
            "_view_module": "@jupyter-widgets/base",
            "_view_module_version": "1.2.0",
            "_view_name": "LayoutView",
            "align_content": null,
            "align_items": null,
            "align_self": null,
            "border": null,
            "bottom": null,
            "display": null,
            "flex": null,
            "flex_flow": null,
            "grid_area": null,
            "grid_auto_columns": null,
            "grid_auto_flow": null,
            "grid_auto_rows": null,
            "grid_column": null,
            "grid_gap": null,
            "grid_row": null,
            "grid_template_areas": null,
            "grid_template_columns": null,
            "grid_template_rows": null,
            "height": null,
            "justify_content": null,
            "justify_items": null,
            "left": null,
            "margin": null,
            "max_height": null,
            "max_width": null,
            "min_height": null,
            "min_width": null,
            "object_fit": null,
            "object_position": null,
            "order": null,
            "overflow": null,
            "overflow_x": null,
            "overflow_y": null,
            "padding": null,
            "right": null,
            "top": null,
            "visibility": null,
            "width": null
          }
        },
        "716e03f4231b408385ac3a0f414a36b1": {
          "model_module": "@jupyter-widgets/controls",
          "model_name": "ButtonStyleModel",
          "model_module_version": "1.5.0",
          "state": {
            "_model_module": "@jupyter-widgets/controls",
            "_model_module_version": "1.5.0",
            "_model_name": "ButtonStyleModel",
            "_view_count": null,
            "_view_module": "@jupyter-widgets/base",
            "_view_module_version": "1.2.0",
            "_view_name": "StyleView",
            "button_color": null,
            "font_weight": ""
          }
        },
        "9de88ff980fe4341ad9d1be091c82d4c": {
          "model_module": "@jupyter-widgets/base",
          "model_name": "LayoutModel",
          "model_module_version": "1.2.0",
          "state": {
            "_model_module": "@jupyter-widgets/base",
            "_model_module_version": "1.2.0",
            "_model_name": "LayoutModel",
            "_view_count": null,
            "_view_module": "@jupyter-widgets/base",
            "_view_module_version": "1.2.0",
            "_view_name": "LayoutView",
            "align_content": null,
            "align_items": null,
            "align_self": null,
            "border": null,
            "bottom": null,
            "display": null,
            "flex": null,
            "flex_flow": null,
            "grid_area": null,
            "grid_auto_columns": null,
            "grid_auto_flow": null,
            "grid_auto_rows": null,
            "grid_column": null,
            "grid_gap": null,
            "grid_row": null,
            "grid_template_areas": null,
            "grid_template_columns": null,
            "grid_template_rows": null,
            "height": null,
            "justify_content": null,
            "justify_items": null,
            "left": null,
            "margin": null,
            "max_height": null,
            "max_width": null,
            "min_height": null,
            "min_width": null,
            "object_fit": null,
            "object_position": null,
            "order": null,
            "overflow": null,
            "overflow_x": null,
            "overflow_y": null,
            "padding": null,
            "right": null,
            "top": null,
            "visibility": null,
            "width": null
          }
        },
        "9e909fcbb7a14d27b6f25068d87920df": {
          "model_module": "@jupyter-widgets/base",
          "model_name": "LayoutModel",
          "model_module_version": "1.2.0",
          "state": {
            "_model_module": "@jupyter-widgets/base",
            "_model_module_version": "1.2.0",
            "_model_name": "LayoutModel",
            "_view_count": null,
            "_view_module": "@jupyter-widgets/base",
            "_view_module_version": "1.2.0",
            "_view_name": "LayoutView",
            "align_content": null,
            "align_items": null,
            "align_self": null,
            "border": null,
            "bottom": null,
            "display": null,
            "flex": null,
            "flex_flow": null,
            "grid_area": null,
            "grid_auto_columns": null,
            "grid_auto_flow": null,
            "grid_auto_rows": null,
            "grid_column": null,
            "grid_gap": null,
            "grid_row": null,
            "grid_template_areas": null,
            "grid_template_columns": null,
            "grid_template_rows": null,
            "height": null,
            "justify_content": null,
            "justify_items": null,
            "left": null,
            "margin": null,
            "max_height": null,
            "max_width": null,
            "min_height": null,
            "min_width": null,
            "object_fit": null,
            "object_position": null,
            "order": null,
            "overflow": null,
            "overflow_x": null,
            "overflow_y": null,
            "padding": null,
            "right": null,
            "top": null,
            "visibility": null,
            "width": null
          }
        }
      }
    }
  },
  "cells": [
    {
      "cell_type": "markdown",
      "source": [
        "**`widgets.Dropdown` — выпадающий список**"
      ],
      "metadata": {
        "id": "SO1D-aIcQ21q"
      }
    },
    {
      "cell_type": "code",
      "execution_count": 2,
      "metadata": {
        "colab": {
          "base_uri": "https://localhost:8080/",
          "height": 49,
          "referenced_widgets": [
            "0ffe5e8b54d94db2a2fcc3266237a487",
            "51b1c3ea5c594da6a1c874ba77436fab",
            "42473c12d91b41c18b6cf4e8d4063aea"
          ]
        },
        "id": "LG7fiis6OTLg",
        "outputId": "46bfd9b0-6d42-48f2-df22-67666c443636"
      },
      "outputs": [
        {
          "output_type": "display_data",
          "data": {
            "text/plain": [
              "Dropdown(description='Город:', options=('Москва', 'Санкт-Петербург', 'Новосибирск'), value='Москва')"
            ],
            "application/vnd.jupyter.widget-view+json": {
              "version_major": 2,
              "version_minor": 0,
              "model_id": "0ffe5e8b54d94db2a2fcc3266237a487"
            }
          },
          "metadata": {}
        }
      ],
      "source": [
        "import ipywidgets as widgets\n",
        "from IPython.display import display\n",
        "\n",
        "dropdown = widgets.Dropdown(\n",
        "    options=['Москва', 'Санкт-Петербург', 'Новосибирск'],\n",
        "    value='Москва',\n",
        "    description='Город:',\n",
        "    disabled=False,\n",
        ")\n",
        "\n",
        "display(dropdown)\n"
      ]
    },
    {
      "cell_type": "code",
      "source": [
        "# Пример с options как словарь\n",
        "dropdown = widgets.Dropdown(\n",
        "    options={'🇷🇺 Россия': 'RU', '🇺🇸 США': 'US', '🇫🇷 Франция': 'FR'},\n",
        "    value='RU',\n",
        "    description='Страна:',\n",
        ")\n",
        "display(dropdown)\n"
      ],
      "metadata": {
        "colab": {
          "base_uri": "https://localhost:8080/",
          "height": 49,
          "referenced_widgets": [
            "575968871bff47e5a0e054566747cc01",
            "1ba38f34001f4058923d5361a2bef64c",
            "3786734f37634e8e96dfa2ee8d4f22f8"
          ]
        },
        "id": "ga-zGfFyOyKK",
        "outputId": "895e157b-6d2f-4b06-81e6-1fced72928a2"
      },
      "execution_count": 3,
      "outputs": [
        {
          "output_type": "display_data",
          "data": {
            "text/plain": [
              "Dropdown(description='Страна:', options={'🇷🇺 Россия': 'RU', '🇺🇸 США': 'US', '🇫🇷 Франция': 'FR'}, value='RU')"
            ],
            "application/vnd.jupyter.widget-view+json": {
              "version_major": 2,
              "version_minor": 0,
              "model_id": "575968871bff47e5a0e054566747cc01"
            }
          },
          "metadata": {}
        }
      ]
    },
    {
      "cell_type": "markdown",
      "source": [
        "**Реакция на выбор пользователя**"
      ],
      "metadata": {
        "id": "teF036htR0CK"
      }
    },
    {
      "cell_type": "code",
      "source": [
        "print(widgets.Widget.observe.__doc__)"
      ],
      "metadata": {
        "colab": {
          "base_uri": "https://localhost:8080/"
        },
        "id": "zOHNBdiETd4T",
        "outputId": "a5f90738-2804-48b6-f874-5e8b8b1718f2"
      },
      "execution_count": 4,
      "outputs": [
        {
          "output_type": "stream",
          "name": "stdout",
          "text": [
            "Setup a handler to be called when a trait changes.\n",
            "\n",
            "        This is used to setup dynamic notifications of trait changes.\n",
            "\n",
            "        Parameters\n",
            "        ----------\n",
            "        handler : callable\n",
            "            A callable that is called when a trait changes. Its\n",
            "            signature should be ``handler(change)``, where ``change`` is a\n",
            "            dictionary. The change dictionary at least holds a 'type' key.\n",
            "            * ``type``: the type of notification.\n",
            "            Other keys may be passed depending on the value of 'type'. In the\n",
            "            case where type is 'change', we also have the following keys:\n",
            "            * ``owner`` : the HasTraits instance\n",
            "            * ``old`` : the old value of the modified trait attribute\n",
            "            * ``new`` : the new value of the modified trait attribute\n",
            "            * ``name`` : the name of the modified trait attribute.\n",
            "        names : list, str, All\n",
            "            If names is All, the handler will apply to all traits.  If a list\n",
            "            of str, handler will apply to all names in the list.  If a\n",
            "            str, the handler will apply just to that name.\n",
            "        type : str, All (default: 'change')\n",
            "            The type of notification to filter by. If equal to All, then all\n",
            "            notifications are passed to the observe handler.\n",
            "        \n"
          ]
        }
      ]
    },
    {
      "cell_type": "code",
      "source": [
        "import ipywidgets as widgets\n",
        "from IPython.display import display\n",
        "\n",
        "dropdown = widgets.Dropdown(\n",
        "    options=['Кошка', 'Собака', 'Попугай'],\n",
        "    value='Кошка',\n",
        "    description='Питомец:',\n",
        ")\n",
        "\n",
        "def on_change(change):\n",
        "    print(change)\n",
        "\n",
        "dropdown.observe(on_change)\n",
        "display(dropdown)\n"
      ],
      "metadata": {
        "colab": {
          "base_uri": "https://localhost:8080/",
          "height": 136,
          "referenced_widgets": [
            "a5f52c093a2a455e9aa5b10fe59a6e2e",
            "b257578ca27c4e84abcb142ee7c75280",
            "a9c07c9192044ca9a3d6df691f653196"
          ]
        },
        "id": "VucZrJ44QB9B",
        "outputId": "9db4b947-d31d-4fde-fcd3-bb12f7f44286"
      },
      "execution_count": 5,
      "outputs": [
        {
          "output_type": "display_data",
          "data": {
            "text/plain": [
              "Dropdown(description='Питомец:', options=('Кошка', 'Собака', 'Попугай'), value='Кошка')"
            ],
            "application/vnd.jupyter.widget-view+json": {
              "version_major": 2,
              "version_minor": 0,
              "model_id": "a5f52c093a2a455e9aa5b10fe59a6e2e"
            }
          },
          "metadata": {}
        },
        {
          "output_type": "stream",
          "name": "stdout",
          "text": [
            "{'name': '_property_lock', 'old': traitlets.Undefined, 'new': {'index': 1}, 'owner': Dropdown(description='Питомец:', options=('Кошка', 'Собака', 'Попугай'), value='Кошка'), 'type': 'change'}\n",
            "{'name': 'label', 'old': 'Кошка', 'new': 'Собака', 'owner': Dropdown(description='Питомец:', index=1, options=('Кошка', 'Собака', 'Попугай'), value='Кошка'), 'type': 'change'}\n",
            "{'name': 'value', 'old': 'Кошка', 'new': 'Собака', 'owner': Dropdown(description='Питомец:', index=1, options=('Кошка', 'Собака', 'Попугай'), value='Собака'), 'type': 'change'}\n",
            "{'name': 'index', 'old': 0, 'new': 1, 'owner': Dropdown(description='Питомец:', index=1, options=('Кошка', 'Собака', 'Попугай'), value='Собака'), 'type': 'change'}\n",
            "{'name': '_property_lock', 'old': {'index': 1}, 'new': {}, 'owner': Dropdown(description='Питомец:', index=1, options=('Кошка', 'Собака', 'Попугай'), value='Собака'), 'type': 'change'}\n"
          ]
        }
      ]
    },
    {
      "cell_type": "code",
      "source": [
        "dropdown = widgets.Dropdown(\n",
        "    options={'🇷🇺 Россия': 'RU', '🇺🇸 США': 'US', '🇫🇷 Франция': 'FR'},\n",
        "    value='RU',\n",
        "    description='Страна:',\n",
        ")\n",
        "display(dropdown)\n",
        "\n",
        "def on_change(change):\n",
        "    if change['type'] == 'change' and change['name'] == 'value':\n",
        "        print(f\"Вы выбрали: {change['new']}\")\n",
        "\n",
        "dropdown.observe(on_change)\n"
      ],
      "metadata": {
        "colab": {
          "base_uri": "https://localhost:8080/",
          "height": 66,
          "referenced_widgets": [
            "42a2a05396a142d9971a44542f35da19",
            "97eb1d728c0c4f5fa6a25351a5eb7649",
            "5b543085473c4b1688d5de34bf34e5d8"
          ]
        },
        "id": "B6qjpjXqPCNe",
        "outputId": "3e20b380-e260-4a8d-fd66-807ea1c6e42e"
      },
      "execution_count": 6,
      "outputs": [
        {
          "output_type": "display_data",
          "data": {
            "text/plain": [
              "Dropdown(description='Страна:', options={'🇷🇺 Россия': 'RU', '🇺🇸 США': 'US', '🇫🇷 Франция': 'FR'}, value='RU')"
            ],
            "application/vnd.jupyter.widget-view+json": {
              "version_major": 2,
              "version_minor": 0,
              "model_id": "42a2a05396a142d9971a44542f35da19"
            }
          },
          "metadata": {}
        },
        {
          "output_type": "stream",
          "name": "stdout",
          "text": [
            "Вы выбрали: US\n"
          ]
        }
      ]
    },
    {
      "cell_type": "code",
      "source": [
        "# Использование с interact\n",
        "from ipywidgets import interact\n",
        "\n",
        "@interact(город=widgets.Dropdown(options=['Москва', 'Казань', 'Сочи']))\n",
        "def show_city(город):\n",
        "    print(f\"Выбранный город: {город}\")\n"
      ],
      "metadata": {
        "colab": {
          "base_uri": "https://localhost:8080/",
          "height": 66,
          "referenced_widgets": [
            "a5710c22f5d14685906456b6d81ab8b5",
            "31228323b2684a10aad536586886bd5d",
            "088a1d77a98d4fad822b90e4e11b6047",
            "e28c6b3ca85f43778f7e3e5de39415c2",
            "bb92a6421d2243fab9aed631ec816e4e",
            "65bd4be8e1dc4e82a69c6596b758484e",
            "dbc4c50c51eb4c1697863f337add7a33"
          ]
        },
        "id": "0D8Hq4HKR788",
        "outputId": "42848b06-635f-4fd9-8659-a143f07e1aca"
      },
      "execution_count": 7,
      "outputs": [
        {
          "output_type": "display_data",
          "data": {
            "text/plain": [
              "interactive(children=(Dropdown(description='город', options=('Москва', 'Казань', 'Сочи'), value='Москва'), Out…"
            ],
            "application/vnd.jupyter.widget-view+json": {
              "version_major": 2,
              "version_minor": 0,
              "model_id": "a5710c22f5d14685906456b6d81ab8b5"
            }
          },
          "metadata": {}
        }
      ]
    },
    {
      "cell_type": "code",
      "source": [
        "# Комбинирование с другими виджетами\n",
        "dropdown = widgets.Dropdown(\n",
        "    options=['Apple', 'Banana', 'Cherry'],\n",
        "    description='Фрукт:'\n",
        ")\n",
        "button = widgets.Button(description='Печать выбора')\n",
        "\n",
        "def on_click(b):\n",
        "    print(f\"Вы выбрали: {dropdown.value}\")\n",
        "\n",
        "button.on_click(on_click)\n",
        "\n",
        "widgets.VBox([dropdown, button])\n"
      ],
      "metadata": {
        "colab": {
          "base_uri": "https://localhost:8080/",
          "height": 98,
          "referenced_widgets": [
            "0795b244ebe14995a89694bbfdef0e38",
            "6ab0991687474a95a66c77840c6bb162",
            "636a9583c9994695b9d74c494cb22d1c",
            "3c168d423f6a442790e57880f77a662c",
            "ee9bdaff593c4d54800d7cc816de34f8",
            "67e8be12756b4dea91e9e21b7e6932c6",
            "7d120ccf20dd4e8a9e36df0df4b98506",
            "cbe76d26a97e4a94927f7950e2bc29e0"
          ]
        },
        "id": "eviiNiLuPSx1",
        "outputId": "bd6444ce-6a64-436a-a6f8-5f3734722fcb"
      },
      "execution_count": 8,
      "outputs": [
        {
          "output_type": "display_data",
          "data": {
            "text/plain": [
              "VBox(children=(Dropdown(description='Фрукт:', options=('Apple', 'Banana', 'Cherry'), value='Apple'), Button(de…"
            ],
            "application/vnd.jupyter.widget-view+json": {
              "version_major": 2,
              "version_minor": 0,
              "model_id": "0795b244ebe14995a89694bbfdef0e38"
            }
          },
          "metadata": {}
        },
        {
          "output_type": "stream",
          "name": "stdout",
          "text": [
            "Вы выбрали: Apple\n"
          ]
        }
      ]
    },
    {
      "cell_type": "markdown",
      "source": [
        "**Реакция на нажатие кнопки**"
      ],
      "metadata": {
        "id": "NaXGqbr4VScz"
      }
    },
    {
      "cell_type": "code",
      "source": [
        "import ipywidgets as widgets\n",
        "from IPython.display import display\n",
        "\n",
        "button = widgets.Button(description='Нажми меня')\n",
        "\n",
        "def on_button_click(b):\n",
        "    print(\"Кнопка нажата!\")\n",
        "\n",
        "button.on_click(on_button_click)\n",
        "\n",
        "display(button)\n"
      ],
      "metadata": {
        "colab": {
          "base_uri": "https://localhost:8080/",
          "height": 49,
          "referenced_widgets": [
            "9752054b6f0b4ae0bb58e12fac830f1a",
            "009205fdf3684be68090d7a211086e01",
            "bf3e8eb6ae724a6abce7382fc0fca828"
          ]
        },
        "id": "KCcYxc12V0pl",
        "outputId": "e5f2bc14-188a-4f23-f171-cb53bd19f4a5"
      },
      "execution_count": 9,
      "outputs": [
        {
          "output_type": "display_data",
          "data": {
            "text/plain": [
              "Button(description='Нажми меня', style=ButtonStyle())"
            ],
            "application/vnd.jupyter.widget-view+json": {
              "version_major": 2,
              "version_minor": 0,
              "model_id": "9752054b6f0b4ae0bb58e12fac830f1a"
            }
          },
          "metadata": {}
        }
      ]
    },
    {
      "cell_type": "code",
      "source": [
        "btn = widgets.Button(\n",
        "    description='Сохранить',\n",
        "    button_style='success',    # зелёная кнопка\n",
        "    tooltip='Сохранить данные',\n",
        "    icon='save'                # дискетка\n",
        ")\n",
        "\n",
        "display(btn)\n"
      ],
      "metadata": {
        "colab": {
          "base_uri": "https://localhost:8080/",
          "height": 49,
          "referenced_widgets": [
            "589b20c66d134faab0bc42dd75b4393e",
            "3f2ae1319830436a9a90361714ba300e",
            "af5e99319c59426fb3f72024cf0a4a2f"
          ]
        },
        "id": "f_jHO6q9WIK1",
        "outputId": "2936731e-8799-4dec-a64d-b9460b0f8f81"
      },
      "execution_count": 10,
      "outputs": [
        {
          "output_type": "display_data",
          "data": {
            "text/plain": [
              "Button(button_style='success', description='Сохранить', icon='save', style=ButtonStyle(), tooltip='Сохранить д…"
            ],
            "application/vnd.jupyter.widget-view+json": {
              "version_major": 2,
              "version_minor": 0,
              "model_id": "589b20c66d134faab0bc42dd75b4393e"
            }
          },
          "metadata": {}
        }
      ]
    },
    {
      "cell_type": "markdown",
      "source": [
        "**widgets.Output — вывод информации (текст, графики, ошибки) в ограниченную область, а не прямо в ячейку.**\n",
        "\n"
      ],
      "metadata": {
        "id": "EkmCG04sW64e"
      }
    },
    {
      "cell_type": "code",
      "source": [
        "import ipywidgets as widgets\n",
        "from IPython.display import display\n",
        "\n",
        "out = widgets.Output()\n",
        "\n",
        "with out:\n",
        "    print(\"Привет из виджета Output!\")\n",
        "\n",
        "display(out)\n",
        "\n",
        "#Всё, что находится внутри блока with out:, выводится внутрь этого виджета."
      ],
      "metadata": {
        "colab": {
          "base_uri": "https://localhost:8080/",
          "height": 34,
          "referenced_widgets": [
            "cd98587379754e32884555d565c1171f",
            "d47c9e72babe4243a1199fac10933c0b"
          ]
        },
        "id": "Bt4Ds87UWyxa",
        "outputId": "f55a5ea0-c94e-45a2-a136-1dde8d2faac3"
      },
      "execution_count": 11,
      "outputs": [
        {
          "output_type": "display_data",
          "data": {
            "text/plain": [
              "Output()"
            ],
            "application/vnd.jupyter.widget-view+json": {
              "version_major": 2,
              "version_minor": 0,
              "model_id": "cd98587379754e32884555d565c1171f"
            }
          },
          "metadata": {}
        }
      ]
    },
    {
      "cell_type": "code",
      "source": [
        "button = widgets.Button(description='Показать')\n",
        "out = widgets.Output()\n",
        "\n",
        "def on_click(b):\n",
        "    with out:\n",
        "        out.clear_output()\n",
        "        print(\"Кнопка была нажата!\")\n",
        "\n",
        "button.on_click(on_click)\n",
        "display(widgets.VBox([button, out]))\n",
        "\n",
        "# out.clear_output() очищает старый вывод перед новым — удобно для обновления."
      ],
      "metadata": {
        "colab": {
          "base_uri": "https://localhost:8080/",
          "height": 49,
          "referenced_widgets": [
            "271c79d65a164817b7dee87830036477",
            "e5e8171cbf96435aa0e3ec936737ff37",
            "2c863f3b7b5845b093c711c072253cc4",
            "88c069179eb8487e8d3721d77a371d91",
            "891c75034b34405ba3385e46773e0c86",
            "eefe50d7385147a89c301a930fefeca7",
            "2168534effb745fab76894a0cb40e325"
          ]
        },
        "id": "MyKFagyLXIAc",
        "outputId": "ffb5822a-20ea-45e9-c12a-f8f62d1f5544"
      },
      "execution_count": 12,
      "outputs": [
        {
          "output_type": "display_data",
          "data": {
            "text/plain": [
              "VBox(children=(Button(description='Показать', style=ButtonStyle()), Output()))"
            ],
            "application/vnd.jupyter.widget-view+json": {
              "version_major": 2,
              "version_minor": 0,
              "model_id": "271c79d65a164817b7dee87830036477"
            }
          },
          "metadata": {}
        }
      ]
    },
    {
      "cell_type": "code",
      "source": [
        "import matplotlib.pyplot as plt\n",
        "import numpy as np\n",
        "\n",
        "button = widgets.Button(description='Построить график')\n",
        "out = widgets.Output()\n",
        "\n",
        "def on_click(b):\n",
        "    with out:\n",
        "        out.clear_output()\n",
        "        x = np.linspace(0, 10, 100)\n",
        "        y = np.sin(x)\n",
        "        plt.plot(x, y)\n",
        "        plt.title(\"Синусоида\")\n",
        "        plt.show()\n",
        "\n",
        "button.on_click(on_click)\n",
        "display(widgets.VBox([button, out]))\n"
      ],
      "metadata": {
        "colab": {
          "base_uri": "https://localhost:8080/",
          "height": 484,
          "referenced_widgets": [
            "c2afcb4d11134d80ac7e8948390f1619",
            "29eadff41a2e4fbe970b61a01e8322a3",
            "7d6dcaa503454e149da98708e8bdd7cb",
            "857d9628b7da4399b8ea5e19762d17df",
            "7e5fd80c557f419587d9943f0a09ea0c",
            "b86ee468d9f64e1caac5c443c08e896f",
            "1ed1ebc42ffb4cf1b94c8a04e100fd19"
          ]
        },
        "id": "IxmoNPKkXO4H",
        "outputId": "6d3fb11d-c028-4127-edd1-ed0f576e6113"
      },
      "execution_count": 13,
      "outputs": [
        {
          "output_type": "display_data",
          "data": {
            "text/plain": [
              "VBox(children=(Button(description='Построить график', style=ButtonStyle()), Output()))"
            ],
            "application/vnd.jupyter.widget-view+json": {
              "version_major": 2,
              "version_minor": 0,
              "model_id": "c2afcb4d11134d80ac7e8948390f1619"
            }
          },
          "metadata": {}
        }
      ]
    },
    {
      "cell_type": "markdown",
      "source": [
        "# **Пример**"
      ],
      "metadata": {
        "id": "jfLrOW7qZR7n"
      }
    },
    {
      "cell_type": "markdown",
      "source": [
        "**1**"
      ],
      "metadata": {
        "id": "URf0zTivcQZ8"
      }
    },
    {
      "cell_type": "code",
      "source": [
        "import pandas as pd\n",
        "\n",
        "# Пример таблицы\n",
        "df = pd.DataFrame({\n",
        "    'database_nm': ['sales', 'sales', 'marketing'],\n",
        "    'table_nm': ['orders', 'customers', 'campaigns']\n",
        "})\n",
        "\n",
        "# Выбранная схема\n",
        "selected_schema = 'sales'\n",
        "\n",
        "# Получаем список таблиц этой схемы\n",
        "tables = sorted(df[df['database_nm'] == selected_schema]['table_nm'].unique())\n",
        "\n",
        "print(tables)\n"
      ],
      "metadata": {
        "colab": {
          "base_uri": "https://localhost:8080/"
        },
        "id": "9WOYr9bNaYVo",
        "outputId": "fb112fdb-8bf7-4cad-f7e1-1d9e0da01ed8"
      },
      "execution_count": 14,
      "outputs": [
        {
          "output_type": "stream",
          "name": "stdout",
          "text": [
            "['customers', 'orders']\n"
          ]
        }
      ]
    },
    {
      "cell_type": "markdown",
      "source": [
        "**2**"
      ],
      "metadata": {
        "id": "QHlbZ_y_cSR1"
      }
    },
    {
      "cell_type": "code",
      "source": [
        "import pandas as pd\n",
        "import ipywidgets as widgets\n",
        "from IPython.display import display\n",
        "\n",
        "# Пример данных\n",
        "df = pd.DataFrame({\n",
        "    'database_nm': ['sales', 'sales', 'marketing', 'marketing'],\n",
        "    'table_nm': ['orders', 'customers', 'campaigns', 'leads']\n",
        "})\n",
        "\n",
        "# Виджеты\n",
        "schema_dropdown = widgets.Dropdown(\n",
        "    options=sorted(df['database_nm'].unique()),  # Список схем\n",
        "    description='Схема:'\n",
        ")\n",
        "\n",
        "table_dropdown = widgets.Dropdown(\n",
        "    description='Таблица:'  # Пока пустой, заполнится позже\n",
        ")\n",
        "\n",
        "# Функция обновления списка таблиц\n",
        "def update_table_dropdown(*args):\n",
        "    selected_schema = schema_dropdown.value  # Что выбрал пользователь\n",
        "    print(selected_schema)\n",
        "    tables = sorted(df[df['database_nm'] == selected_schema]['table_nm'].unique())\n",
        "    print(tables)\n",
        "    table_dropdown.options = tables  # Обновить список таблиц\n",
        "    if tables:\n",
        "        table_dropdown.value = tables[0]  # Автоматически выбрать первую таблицу\n",
        "\n",
        "# Обновление при изменении схемы\n",
        "schema_dropdown.observe(update_table_dropdown, 'value')\n",
        "\n",
        "# Первичная инициализация\n",
        "update_table_dropdown()\n",
        "\n",
        "# Отображение\n",
        "display(widgets.VBox([schema_dropdown, table_dropdown]))\n"
      ],
      "metadata": {
        "colab": {
          "base_uri": "https://localhost:8080/",
          "height": 116,
          "referenced_widgets": [
            "46b3ef48053f470a9ad185eb59c1da88",
            "8aab230b466b40fdad0ab44044e88c1d",
            "063d64f9ac2e497ba7f69185d52b6506",
            "c46ca7396aaf448589fb63e6f3003bd0",
            "2d5f964a0a184307809e859a1a4e9540",
            "5f9634e9749a4ec196dffe838cfff4b6",
            "7ddce0913aec4084b73a1da8c51a2362",
            "742c4e997ad949bcb715dfcded1c359a"
          ]
        },
        "id": "sK9j2y_gbXSz",
        "outputId": "8c44bdde-01a0-4cfc-f2d0-28e58493c23f"
      },
      "execution_count": 15,
      "outputs": [
        {
          "output_type": "stream",
          "name": "stdout",
          "text": [
            "marketing\n",
            "['campaigns', 'leads']\n"
          ]
        },
        {
          "output_type": "display_data",
          "data": {
            "text/plain": [
              "VBox(children=(Dropdown(description='Схема:', options=('marketing', 'sales'), value='marketing'), Dropdown(des…"
            ],
            "application/vnd.jupyter.widget-view+json": {
              "version_major": 2,
              "version_minor": 0,
              "model_id": "46b3ef48053f470a9ad185eb59c1da88"
            }
          },
          "metadata": {}
        }
      ]
    },
    {
      "cell_type": "markdown",
      "source": [
        "**3**"
      ],
      "metadata": {
        "id": "yDz-UofVcUdB"
      }
    },
    {
      "cell_type": "code",
      "source": [
        "import pandas as pd\n",
        "import matplotlib.pyplot as plt\n",
        "import ipywidgets as widgets\n",
        "from IPython.display import display\n",
        "\n",
        "# Пример данных\n",
        "df = pd.DataFrame({\n",
        "    'database_nm': ['sales', 'sales', 'marketing'],\n",
        "    'table_nm': ['orders', 'customers', 'campaigns'],\n",
        "    'value': [100, 200, 150],\n",
        "    'count': [10, 20, 15]\n",
        "})\n",
        "\n",
        "# Выпадающие списки\n",
        "schema_dropdown = widgets.Dropdown(\n",
        "    options=sorted(df['database_nm'].unique()),\n",
        "    description='Схема:'\n",
        ")\n",
        "\n",
        "table_dropdown = widgets.Dropdown(\n",
        "    description='Таблица:'\n",
        ")\n",
        "\n",
        "# Выходная область для графика\n",
        "graph_output = widgets.Output()\n",
        "\n",
        "# Обновление списка таблиц при выборе схемы\n",
        "def update_table_dropdown(*args):\n",
        "    selected_schema = schema_dropdown.value\n",
        "    tables = sorted(df[df['database_nm'] == selected_schema]['table_nm'].unique())\n",
        "    table_dropdown.options = tables\n",
        "    if tables:\n",
        "        table_dropdown.value = tables[0]\n",
        "\n",
        "schema_dropdown.observe(update_table_dropdown, 'value')\n",
        "update_table_dropdown()\n",
        "\n",
        "# Кнопка для построения графика\n",
        "update_button = widgets.Button(description=\"Показать график\", button_style='info')\n",
        "\n",
        "# Функция отрисовки графика\n",
        "def on_update_click(b):\n",
        "    graph_output.clear_output()\n",
        "    with graph_output:\n",
        "        schema = schema_dropdown.value\n",
        "        table = table_dropdown.value\n",
        "        data = df[(df['database_nm'] == schema) & (df['table_nm'] == table)]\n",
        "\n",
        "        if data.empty:\n",
        "            print(\"Нет данных для графика.\")\n",
        "        else:\n",
        "            plt.bar(['value', 'count'], [data['value'].values[0], data['count'].values[0]])\n",
        "            plt.title(f\"{schema}.{table}\")\n",
        "            plt.ylabel(\"Значения\")\n",
        "            plt.show()\n",
        "\n",
        "update_button.on_click(on_update_click)\n",
        "\n",
        "# Отображение всех виджетов\n",
        "display(widgets.VBox([schema_dropdown, table_dropdown, update_button, graph_output]))\n"
      ],
      "metadata": {
        "colab": {
          "base_uri": "https://localhost:8080/",
          "height": 548,
          "referenced_widgets": [
            "a61378bf30a648f2a91e78fd36a9336b",
            "f043686d9d0a424ca942d6e5ff801cfb",
            "df2f58c1e8204c24851ffe30fe6b773c",
            "de721ad6eed44af6acbee6d39454ac4e",
            "f199c62909b24e05a961a8fb33cfed59",
            "56acdbb8836a4d3093d2ae8a5a9b6d00",
            "ec390ee4e043493c9ba9844357e1ba88",
            "1d4fda34ccbc44c290d6be557471359a",
            "f10f280649be49ab86f15a01b39a2ec6",
            "97ea7092991b4efe8d8cab150b189e96",
            "c3fabbb31ce54ed4b39ef19bb5e8999f",
            "d4ff29adc682444c9972d5c987e37b63",
            "060e2cf099c344d8bb13f54e7d67385a"
          ]
        },
        "id": "tJ22Vxb0d8MJ",
        "outputId": "b2535888-cacc-4f16-cfd9-2a2f9c8776b9"
      },
      "execution_count": 16,
      "outputs": [
        {
          "output_type": "display_data",
          "data": {
            "text/plain": [
              "VBox(children=(Dropdown(description='Схема:', options=('marketing', 'sales'), value='marketing'), Dropdown(des…"
            ],
            "application/vnd.jupyter.widget-view+json": {
              "version_major": 2,
              "version_minor": 0,
              "model_id": "a61378bf30a648f2a91e78fd36a9336b"
            }
          },
          "metadata": {}
        }
      ]
    },
    {
      "cell_type": "markdown",
      "source": [
        "**4**"
      ],
      "metadata": {
        "id": "s-2cKK9Wd7RG"
      }
    },
    {
      "cell_type": "code",
      "source": [
        "import pandas as pd\n",
        "import matplotlib.pyplot as plt\n",
        "import ipywidgets as widgets\n",
        "from IPython.display import display, FileLink\n",
        "import tempfile\n",
        "\n",
        "# Примерный DataFrame с данными\n",
        "df = pd.DataFrame({\n",
        "    'database_nm': ['sales', 'sales', 'marketing', 'marketing'],\n",
        "    'table_nm': ['orders', 'customers', 'campaigns', 'leads'],\n",
        "    'value': [100, 200, 150, 250],\n",
        "    'count': [10, 20, 15, 30]\n",
        "})\n",
        "\n",
        "# Виджеты\n",
        "schema_dropdown = widgets.Dropdown(\n",
        "    options=sorted(df['database_nm'].unique()),\n",
        "    description='Схема:'\n",
        ")\n",
        "\n",
        "table_dropdown = widgets.Dropdown(\n",
        "    description='Таблица:'\n",
        ")\n",
        "\n",
        "update_button = widgets.Button(description=\"Обновить график\", button_style='info')\n",
        "export_button = widgets.Button(description=\"Скачать Excel\", button_style='success')\n",
        "\n",
        "graph_output = widgets.Output()\n",
        "result_output = widgets.Output()\n",
        "\n",
        "# Обновление таблиц при выборе схемы\n",
        "def update_table_dropdown(*args):\n",
        "    selected_schema = schema_dropdown.value\n",
        "    tables = sorted(df[df['database_nm'] == selected_schema]['table_nm'].unique())\n",
        "    table_dropdown.options = tables\n",
        "    if tables:\n",
        "        table_dropdown.value = tables[0]\n",
        "\n",
        "schema_dropdown.observe(update_table_dropdown, 'value')\n",
        "update_table_dropdown()\n",
        "\n",
        "# Обновление графика\n",
        "def on_update_click(b):\n",
        "    graph_output.clear_output()\n",
        "    with graph_output:\n",
        "        schema = schema_dropdown.value\n",
        "        table = table_dropdown.value\n",
        "        data = df[(df['database_nm'] == schema) & (df['table_nm'] == table)]\n",
        "\n",
        "        if data.empty:\n",
        "            print(\"Нет данных для графика.\")\n",
        "        else:\n",
        "            plt.bar(['value', 'count'], [data['value'].values[0], data['count'].values[0]])\n",
        "            plt.title(f\"{schema}.{table}\")\n",
        "            plt.ylabel(\"Значения\")\n",
        "            plt.show()\n",
        "\n",
        "# Экспорт в Excel\n",
        "def on_export_click(b):\n",
        "    result_output.clear_output()\n",
        "    with result_output:\n",
        "        schema = schema_dropdown.value\n",
        "        table = table_dropdown.value\n",
        "        data = df[(df['database_nm'] == schema) & (df['table_nm'] == table)]\n",
        "\n",
        "        if data.empty:\n",
        "            print(\"Нет данных для экспорта.\")\n",
        "        else:\n",
        "            with tempfile.NamedTemporaryFile(delete=False, suffix='.xlsx') as tmp:\n",
        "                data.to_excel(tmp.name, index=False)\n",
        "                print(\"Файл создан.\")\n",
        "                display(FileLink(tmp.name, result_html_prefix=\"Нажмите, чтобы скачать: \"))\n",
        "\n",
        "update_button.on_click(on_update_click)\n",
        "export_button.on_click(on_export_click)\n",
        "\n",
        "# Отображение интерфейса\n",
        "ui = widgets.VBox([\n",
        "    widgets.HBox([schema_dropdown, table_dropdown]),\n",
        "    widgets.HBox([update_button, export_button]),\n",
        "    graph_output,\n",
        "    result_output\n",
        "])\n",
        "\n",
        "display(ui)\n"
      ],
      "metadata": {
        "colab": {
          "base_uri": "https://localhost:8080/",
          "height": 516,
          "referenced_widgets": [
            "25b9c51d91034af183f06844f1c06f3f",
            "d1f0682fd237474a908260532830a3c3",
            "1f9a0c27792748f581a4ed9578e0a7ca",
            "5dbbb054bd7242d2b731e8238a69a9c3",
            "e99298c2a76f4a5cba6807d236597485",
            "946081279d024795bcbee3364257af28",
            "174adc4bcd0448c99eea67530d61920b",
            "22924f741b4149d5a113f4274bc258b9",
            "aafe804c96d449a6bdf85d7a3dd48c00",
            "4645c5397ff24745858537569846a3ae",
            "3232f5160cc84d7cae2c08e355284a3a",
            "b4864f8087d045539a1634b4e4014132",
            "ca96f2eb2a7247b1832783b0694c102a",
            "e25fa2afc5a04d01945af2e66effa877",
            "8d72174cf0834b048c5e2766625d503e",
            "d2583761e8da475482218343d3fd37da",
            "2461e1a7c1da461f87da681664e58153",
            "aea3427b80204a30ace71b69ec905585",
            "0f6a94159441410d97e7a243dc916ba8",
            "716e03f4231b408385ac3a0f414a36b1",
            "9de88ff980fe4341ad9d1be091c82d4c",
            "9e909fcbb7a14d27b6f25068d87920df"
          ]
        },
        "id": "pr70eTAOZUVA",
        "outputId": "b7226902-d077-45f2-8db0-c52aaec5c94c"
      },
      "execution_count": 17,
      "outputs": [
        {
          "output_type": "display_data",
          "data": {
            "text/plain": [
              "VBox(children=(HBox(children=(Dropdown(description='Схема:', options=('marketing', 'sales'), value='marketing'…"
            ],
            "application/vnd.jupyter.widget-view+json": {
              "version_major": 2,
              "version_minor": 0,
              "model_id": "25b9c51d91034af183f06844f1c06f3f"
            }
          },
          "metadata": {}
        }
      ]
    },
    {
      "cell_type": "markdown",
      "source": [
        "**5**"
      ],
      "metadata": {
        "id": "Jmu1LDARri8J"
      }
    },
    {
      "cell_type": "code",
      "source": [
        "import numpy as np\n",
        "import pandas as pd\n",
        "import matplotlib.pyplot as plt\n",
        "\n",
        "# Генерируем случайные данные\n",
        "np.random.seed(42)\n",
        "filtered_df = pd.DataFrame({\n",
        "    'minutes': np.random.normal(loc=30, scale=10, size=30)  # 30 точек с нормальным распределением\n",
        "})\n",
        "\n",
        "# Вычисляем 90-й процентиль\n",
        "percentile_90 = np.percentile(filtered_df['minutes'], 90)\n",
        "\n",
        "# Рисуем график\n",
        "fig, ax1 = plt.subplots(figsize=(10, 3))\n",
        "\n",
        "# Точечный график: все точки по оси X, а по Y — 0.5\n",
        "ax1.scatter(filtered_df['minutes'], np.ones(len(filtered_df)) * 0.5, alpha=0.3, s=60, label='Значения (минуты)')\n",
        "\n",
        "# Вертикальная линия — 90-й процентиль\n",
        "ax1.axvline(x=percentile_90, color='red', linestyle='--', linewidth=2, label='90-й процентиль')\n",
        "\n",
        "# Настройки\n",
        "#ax1.set_yticks([])  # убираем шкалу Y\n",
        "ax1.set_title('Точечный график с 90-м процентилем')\n",
        "ax1.set_xlabel('Минуты')\n",
        "ax1.legend()\n",
        "plt.tight_layout()\n",
        "plt.show()\n"
      ],
      "metadata": {
        "colab": {
          "base_uri": "https://localhost:8080/",
          "height": 307
        },
        "id": "1I98jEWRjgnk",
        "outputId": "d4186643-63f2-4f25-ba4e-2b9a0cffd454"
      },
      "execution_count": 18,
      "outputs": [
        {
          "output_type": "display_data",
          "data": {
            "text/plain": [
              "<Figure size 1000x300 with 1 Axes>"
            ],
            "image/png": "[encoded data removed]"
          },
          "metadata": {}
        }
      ]
    }
  ]
}