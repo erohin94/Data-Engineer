{
  "nbformat": 4,
  "nbformat_minor": 0,
  "metadata": {
    "colab": {
      "provenance": []
    },
    "kernelspec": {
      "name": "python3",
      "display_name": "Python 3"
    },
    "language_info": {
      "name": "python"
    }
  },
  "cells": [
    {
      "cell_type": "code",
      "execution_count": 2,
      "metadata": {
        "colab": {
          "base_uri": "https://localhost:8080/"
        },
        "id": "Oe---kg6iVVt",
        "outputId": "a44358fd-902d-4a7f-8f44-e4caad07001e"
      },
      "outputs": [
        {
          "output_type": "stream",
          "name": "stdout",
          "text": [
            "9.1\n"
          ]
        }
      ],
      "source": [
        "import pandas as pd\n",
        "\n",
        "data = pd.Series([1, 2, 3, 4, 5, 6, 7, 8, 9, 10])\n",
        "#data = pd.Series([1, 1, 1, 1, 1, 1, 1, 1, 1, 1])\n",
        "\n",
        "# 90-й перцентиль (квантиль 0.9)\n",
        "q90 = data.quantile(0.9)\n",
        "print(q90)  # Вывод: 9.1"
      ]
    },
    {
      "cell_type": "code",
      "source": [
        "import pandas as pd\n",
        "\n",
        "data = {\n",
        "    'time': pd.to_datetime(['2023-01-01 10:00',\n",
        "                            '2023-01-01 11:00',\n",
        "                            '2023-01-01 12:00',\n",
        "                            '2023-01-01 13:00',\n",
        "                            '2023-01-01 14:00']),\n",
        "    'load': [10, 20, 30, 40, 50]  # загрузка CPU, трафик и т. д.\n",
        "}\n",
        "\n",
        "df = pd.DataFrame(data)\n",
        "\n",
        "# 90-й перцентиль для загрузки\n",
        "q90_load = df['load'].quantile(0.9)\n",
        "print(\"90-й перцентиль загрузки:\", q90_load)  # Вывод: 46.0 (если интерполяция 'linear')"
      ],
      "metadata": {
        "colab": {
          "base_uri": "https://localhost:8080/"
        },
        "id": "HB46L_2RihDK",
        "outputId": "950f1107-d102-4a15-fe36-bed75b559a6d"
      },
      "execution_count": 3,
      "outputs": [
        {
          "output_type": "stream",
          "name": "stdout",
          "text": [
            "90-й перцентиль загрузки: 46.0\n"
          ]
        }
      ]
    },
    {
      "cell_type": "code",
      "source": [
        "import pandas as pd\n",
        "\n",
        "\n",
        "data = {'snapshot_end_dttm': ['2023-01-01 10:06:42',\n",
        "                             '2023-01-02 14:30:15',\n",
        "                             '2023-01-03 23:59:59']}\n",
        "df = pd.DataFrame(data)\n",
        "df['snapshot_end_dttm'] = pd.to_datetime(df['snapshot_end_dttm'], format='%Y-%m-%d %H:%M:%S').dropna()\n",
        "\n",
        "# минуты с начала дня\n",
        "df['minutes'] = df['snapshot_end_dttm'].dt.hour * 60 + df['snapshot_end_dttm'].dt.minute\n",
        "\n",
        "print(df)\n",
        "print(df['minutes'].quantile(0.9))\n",
        "print(df['minutes'].quantile(0.9, interpolation='lower'))"
      ],
      "metadata": {
        "colab": {
          "base_uri": "https://localhost:8080/"
        },
        "id": "xSiTkilsivlK",
        "outputId": "0664f3ed-2e55-4dd7-a73c-579ff35de76a"
      },
      "execution_count": 6,
      "outputs": [
        {
          "output_type": "stream",
          "name": "stdout",
          "text": [
            "    snapshot_end_dttm  minutes\n",
            "0 2023-01-01 10:06:42      606\n",
            "1 2023-01-02 14:30:15      870\n",
            "2 2023-01-03 23:59:59     1439\n",
            "1325.2\n",
            "870\n"
          ]
        }
      ]
    },
    {
      "cell_type": "code",
      "source": [
        "import pandas as pd\n",
        "salaries = [30, 40, 50, 60, 70, 80, 90, 100, 110, 120]\n",
        "s = pd.Series(salaries)\n",
        "\n",
        "print(s.quantile(0.9))  # Вывод: 111.0\n",
        "print(s.quantile(0.9, interpolation='lower')) # Вывод: 110.0, берет ближайшее меньшее значение из набора данных"
      ],
      "metadata": {
        "colab": {
          "base_uri": "https://localhost:8080/"
        },
        "id": "IAJPkweRi63l",
        "outputId": "c4d3bd10-4559-4377-ccac-1096edc45072"
      },
      "execution_count": 7,
      "outputs": [
        {
          "output_type": "stream",
          "name": "stdout",
          "text": [
            "111.0\n",
            "110\n"
          ]
        }
      ]
    }
  ]
}