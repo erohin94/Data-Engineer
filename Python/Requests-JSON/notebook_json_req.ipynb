{
  "nbformat": 4,
  "nbformat_minor": 0,
  "metadata": {
    "colab": {
      "provenance": []
    },
    "kernelspec": {
      "name": "python3",
      "display_name": "Python 3"
    },
    "language_info": {
      "name": "python"
    }
  },
  "cells": [
    {
      "cell_type": "markdown",
      "source": [
        "**1. 📥 Загрузка JSON-строки → Python-объект (dict)**"
      ],
      "metadata": {
        "id": "9m-NRvdfMT7q"
      }
    },
    {
      "cell_type": "code",
      "source": [
        "import json\n",
        "\n",
        "json_str = '{\"name\": \"Иван\", \"age\": 30}' # str\n",
        "data = json.loads(json_str)  # str → dict\n",
        "print(data[\"name\"])  # → Иван"
      ],
      "metadata": {
        "colab": {
          "base_uri": "https://localhost:8080/"
        },
        "id": "SeWpVHVLCSoy",
        "outputId": "9ec53e0e-4f97-4260-ce4f-ae2bab300fd3"
      },
      "execution_count": 60,
      "outputs": [
        {
          "output_type": "stream",
          "name": "stdout",
          "text": [
            "Иван\n"
          ]
        }
      ]
    },
    {
      "cell_type": "markdown",
      "source": [
        "**2. 📤 Преобразование Python-объекта → JSON-строка**\n",
        "\n",
        "`ensure_ascii=False` — сохраняет кириллицу\n",
        "\n",
        "`indent=2` — форматированный вывод, отступ слева"
      ],
      "metadata": {
        "id": "I59v5i7jMamZ"
      }
    },
    {
      "cell_type": "code",
      "source": [
        "import json\n",
        "\n",
        "data = {\"name\": \"Иван\", \"age\": 30} # dict\n",
        "json_str = json.dumps(data, ensure_ascii=False, indent=0) # dict → str\n",
        "print(json_str)"
      ],
      "metadata": {
        "colab": {
          "base_uri": "https://localhost:8080/"
        },
        "id": "7m_xDxcrDWPt",
        "outputId": "3c9b17b9-47ac-4a4e-9d6c-b7384e950974"
      },
      "execution_count": 61,
      "outputs": [
        {
          "output_type": "stream",
          "name": "stdout",
          "text": [
            "{\n",
            "\"name\": \"Иван\",\n",
            "\"age\": 30\n",
            "}\n"
          ]
        }
      ]
    },
    {
      "cell_type": "markdown",
      "source": [
        "**3. 🛰 Использование с API (например, HH.ru)**"
      ],
      "metadata": {
        "id": "aHxpFp7RMi3F"
      }
    },
    {
      "cell_type": "code",
      "source": [
        "import requests\n",
        "import json\n",
        "\n",
        "url = \"https://api.hh.ru/employers\"\n",
        "params = {\"text\": \"ДИКСИ, группа компаний\", \"only_with_vacancies\": True}\n",
        "response = requests.get(url, params=params) # <class 'requests.models.Response'>\n",
        "\n",
        "if response.ok:\n",
        "    data = response.json() # JSON → dict\n",
        "    print(type(data))\n",
        "    print(type(json.dumps(data, ensure_ascii=False, indent=2))) # dict → str\n",
        "    print(json.dumps(data, ensure_ascii=False, indent=2))\n"
      ],
      "metadata": {
        "colab": {
          "base_uri": "https://localhost:8080/"
        },
        "id": "yb_ggO6sDmd9",
        "outputId": "fd256b62-c2d8-4711-f675-44f549c2be7f"
      },
      "execution_count": 62,
      "outputs": [
        {
          "output_type": "stream",
          "name": "stdout",
          "text": [
            "<class 'dict'>\n",
            "<class 'str'>\n",
            "{\n",
            "  \"items\": [\n",
            "    {\n",
            "      \"id\": \"2746\",\n",
            "      \"name\": \"ДИКСИ, группа компаний\",\n",
            "      \"url\": \"https://api.hh.ru/employers/2746\",\n",
            "      \"alternate_url\": \"https://hh.ru/employer/2746\",\n",
            "      \"logo_urls\": {\n",
            "        \"original\": \"https://img.hhcdn.ru/employer-logo-original/1393191.png\",\n",
            "        \"240\": \"https://img.hhcdn.ru/employer-logo/7192548.png\",\n",
            "        \"90\": \"https://img.hhcdn.ru/employer-logo/7192547.png\"\n",
            "      },\n",
            "      \"vacancies_url\": \"https://api.hh.ru/vacancies?employer_id=2746\",\n",
            "      \"open_vacancies\": 3616\n",
            "    }\n",
            "  ],\n",
            "  \"found\": 1,\n",
            "  \"pages\": 1,\n",
            "  \"page\": 0,\n",
            "  \"per_page\": 20\n",
            "}\n"
          ]
        }
      ]
    },
    {
      "cell_type": "markdown",
      "source": [
        "**4. 🔍 Обработка вложенного JSON (вложенные dict и list)**"
      ],
      "metadata": {
        "id": "FQB1KYl7MoHd"
      }
    },
    {
      "cell_type": "code",
      "source": [
        "# Допустим, data = response.json() и содержит список компаний:\n",
        "for item in data[\"items\"]:\n",
        "    print(\"Компания:\", item[\"name\"])\n",
        "    print(\"Вакансий:\", item.get(\"open_vacancies\"))\n",
        "\n",
        "    # Проверка наличия логотипа\n",
        "    if item.get(\"logo_urls\"):\n",
        "        print(\"Логотип 90:\", item[\"logo_urls\"].get(\"90\"))\n",
        "    else:\n",
        "        print(\"Логотип отсутствует\")\n",
        "\n",
        "    print(\"---\")"
      ],
      "metadata": {
        "colab": {
          "base_uri": "https://localhost:8080/"
        },
        "id": "fKDGEfFVG6Ld",
        "outputId": "fa550e7f-d03b-4d29-fb45-e74f41205fb5"
      },
      "execution_count": 63,
      "outputs": [
        {
          "output_type": "stream",
          "name": "stdout",
          "text": [
            "Компания: ДИКСИ, группа компаний\n",
            "Вакансий: 3616\n",
            "Логотип 90: https://img.hhcdn.ru/employer-logo/7192547.png\n",
            "---\n"
          ]
        }
      ]
    },
    {
      "cell_type": "markdown",
      "source": [
        "**5. 💾 Загрузка из JSON-файла**"
      ],
      "metadata": {
        "id": "VyeXOjwFM1Y8"
      }
    },
    {
      "cell_type": "code",
      "source": [
        "with open(\"/content/diksi_employers.json\", \"r\", encoding=\"utf-8\") as f:\n",
        "    data = json.load(f)\n",
        "\n",
        "print(data)"
      ],
      "metadata": {
        "colab": {
          "base_uri": "https://localhost:8080/"
        },
        "id": "KegqWG95Ggd1",
        "outputId": "bea4a861-17a2-457e-ff14-add0d02d01e7"
      },
      "execution_count": 64,
      "outputs": [
        {
          "output_type": "stream",
          "name": "stdout",
          "text": [
            "[{'id': '2746', 'name': 'ДИКСИ, группа компаний', 'open_vacancies': 3612, 'logo_urls': {'original': 'https://img.hhcdn.ru/employer-logo-original/1393191.png', '240': 'https://img.hhcdn.ru/employer-logo/7192548.png', '90': 'https://img.hhcdn.ru/employer-logo/7192547.png'}}]\n"
          ]
        }
      ]
    },
    {
      "cell_type": "markdown",
      "source": [
        "**6. 💽 Сохранение в JSON-файл**"
      ],
      "metadata": {
        "id": "M1MFPn3ZM5Qy"
      }
    },
    {
      "cell_type": "code",
      "source": [
        "with open(\"file.json\", \"w\", encoding=\"utf-8\") as f:\n",
        "    json.dump(data, f, ensure_ascii=False, indent=2)"
      ],
      "metadata": {
        "id": "NwDlbLSTGnmb"
      },
      "execution_count": 55,
      "outputs": []
    },
    {
      "cell_type": "markdown",
      "source": [
        "**7. 📑 Частые методы при работе с JSON-объектами (dict)**"
      ],
      "metadata": {
        "id": "zRAA2-50NCu1"
      }
    },
    {
      "cell_type": "code",
      "source": [
        "data.get(\"ключ\")          # безопасно получить значение (вернёт None, если ключа нет)\n",
        "data[\"ключ\"]              # прямой доступ (ошибка, если ключа нет)\n",
        "data.items()              # пары ключ–значение\n",
        "data.keys()               # все ключи\n",
        "data.values()             # все значения"
      ],
      "metadata": {
        "id": "nXLYMOnDHJOr"
      },
      "execution_count": null,
      "outputs": []
    },
    {
      "cell_type": "markdown",
      "source": [
        "**8. 🧪 Пример полной цепочки: API → Python → Фильтрация → JSON-файл**"
      ],
      "metadata": {
        "id": "Qs13Zb5ENGKO"
      }
    },
    {
      "cell_type": "code",
      "source": [
        "import requests, json\n",
        "\n",
        "url = \"https://api.hh.ru/employers\"\n",
        "params = {\"text\": \"ДИКСИ, группа компаний\", \"only_with_vacancies\": True}\n",
        "response = requests.get(url, params=params)\n",
        "\n",
        "if response.ok:\n",
        "    data = response.json()\n",
        "\n",
        "    filtered = [\n",
        "        {\n",
        "            \"id\": emp[\"id\"],\n",
        "            \"name\": emp[\"name\"],\n",
        "            \"open_vacancies\": emp.get(\"open_vacancies\"),\n",
        "            \"logo_urls\": emp.get(\"logo_urls\", {}),\n",
        "        }\n",
        "        for emp in data[\"items\"]\n",
        "    ]\n",
        "\n",
        "    with open(\"diksi_employers.json\", \"w\", encoding=\"utf-8\") as f:\n",
        "        json.dump(filtered, f, ensure_ascii=False, indent=2)\n",
        "\n",
        "    print(\"Сохранено:\", len(filtered), \"работодателей\")\n"
      ],
      "metadata": {
        "colab": {
          "base_uri": "https://localhost:8080/"
        },
        "id": "HWLafC_-Hndk",
        "outputId": "14b0aa1b-9f6d-4288-d1d3-b7169e3f5d19"
      },
      "execution_count": 65,
      "outputs": [
        {
          "output_type": "stream",
          "name": "stdout",
          "text": [
            "Сохранено: 1 работодателей\n"
          ]
        }
      ]
    },
    {
      "cell_type": "markdown",
      "source": [
        "**9. 🔍 Что такое Response?**\n",
        "\n",
        "Это объект, который представляет ответ от сервера. С его помощью можно получить:\n",
        "\n",
        "```\n",
        "Атрибут / Метод                       Что делает\n",
        "response.status_code\t              Код ответа HTTP (200, 404, 500 и т.д.)\n",
        "response.ok\t                       True, если статус 200–299\n",
        "response.text\t                     Ответ как текст\n",
        "response.content\t                  Ответ как байты (например, картинка или PDF)\n",
        "response.json()\t                   Преобразует тело ответа в dict (если это JSON)\n",
        "response.headers\t                  Заголовки ответа\n",
        "response.url\t                      URL, по которому был сделан запрос\n",
        "response.raise_for_status()\t       Бросает исключение, если статус ответа ≥ 400\n",
        "```"
      ],
      "metadata": {
        "id": "cDNwyPbNNM7P"
      }
    },
    {
      "cell_type": "code",
      "source": [
        "import requests\n",
        "\n",
        "response = requests.get(\"https://api.hh.ru/employers\", params={\"text\": \"Газпромбанк\"})\n",
        "\n",
        "print(type(response))  # <class 'requests.models.Response'>\n",
        "print(response.status_code)  # 200\n",
        "print(response.ok)  # True\n",
        "print(response.url)  # финальный URL\n",
        "print(response.headers)  # словарь заголовков\n"
      ],
      "metadata": {
        "colab": {
          "base_uri": "https://localhost:8080/"
        },
        "id": "gdXmjA1CJU6S",
        "outputId": "ab2a5c6c-837e-4a7f-aae7-bfdcdab7b05e"
      },
      "execution_count": 66,
      "outputs": [
        {
          "output_type": "stream",
          "name": "stdout",
          "text": [
            "<class 'requests.models.Response'>\n",
            "200\n",
            "True\n",
            "https://api.hh.ru/employers?text=%D0%93%D0%B0%D0%B7%D0%BF%D1%80%D0%BE%D0%BC%D0%B1%D0%B0%D0%BD%D0%BA\n",
            "{'Server': 'ddos-guard', 'Connection': 'keep-alive', 'Keep-Alive': 'timeout=60', 'Set-Cookie': '__ddg8_=gCBMCoLrkwJhLsbk; Domain=.hh.ru; Path=/; Expires=Wed, 30-Apr-2025 10:41:43 GMT, __ddg10_=1746008503; Domain=.hh.ru; Path=/; Expires=Wed, 30-Apr-2025 10:41:43 GMT, __ddg9_=34.28.220.56; Domain=.hh.ru; Path=/; Expires=Wed, 30-Apr-2025 10:41:43 GMT, __ddg1_=fMWchuKezLFLjMyyWxSO; Domain=.hh.ru; HttpOnly; Path=/; Expires=Thu, 30-Apr-2026 10:21:43 GMT', 'Date': 'Wed, 30 Apr 2025 10:21:43 GMT', 'Content-Type': 'application/json; charset=UTF-8', 'Vary': 'Accept-Encoding', 'X-Request-Id': '1746008503803b7cb4fadd52557294d6, 1746008503803b7cb4fadd52557294d6', 'Cache-Control': 'max-age=0, private, must-revalidate', 'Expires': 'Wed, 19 Mar 2025 10:21:43 GMT', 'Access-Control-Allow-Origin': '*', 'Access-Control-Expose-Headers': 'Location, ETag, Date, Expires, Cache-Control, Content-Type, X-Request-ID', 'Server-Timing': 'frontik;desc=\"frontik execution time\";dur=0.024793624877929688', 'Report-To': '{\"group\":\"nel\",\"endpoints\":[{\"url\":\"https:\\\\/\\\\/nel.hhdev.ru\\\\/report\\\\/api\"}],\"max_age\":3600}', 'NEL': '{\"success_fraction\":0,\"report_to\":\"nel\",\"max_age\":3600}', 'Strict-Transport-Security': 'max-age=31536000; includeSubDomains', 'X-Frame-Options': 'SAMEORIGIN', 'X-Content-Type-Options': 'nosniff', 'Content-Encoding': 'gzip', 'Transfer-Encoding': 'chunked'}\n"
          ]
        }
      ]
    }
  ]
}